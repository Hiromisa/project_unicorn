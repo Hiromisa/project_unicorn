{
 "cells": [
  {
   "cell_type": "markdown",
   "id": "3b227782",
   "metadata": {},
   "source": [
    "## Project: Creating a notebook for Unicorn analysis\n",
    "*Original dataset sometimes includes typo, please double check!*"
   ]
  },
  {
   "cell_type": "code",
   "execution_count": 1,
   "id": "b8b3b1d6",
   "metadata": {},
   "outputs": [],
   "source": [
    "from geopy.geocoders import Nominatim\n",
    "from geopy.extra.rate_limiter import RateLimiter\n",
    "import re"
   ]
  },
  {
   "cell_type": "code",
   "execution_count": 2,
   "id": "bf17722b",
   "metadata": {},
   "outputs": [
    {
     "name": "stderr",
     "output_type": "stream",
     "text": [
      "/Users/hiromi/.pyenv/versions/3.8.10/lib/python3.8/site-packages/pandas/compat/__init__.py:97: UserWarning: Could not import the lzma module. Your installed Python is incomplete. Attempting to use lzma compression will result in a RuntimeError.\n",
      "  warnings.warn(msg)\n"
     ]
    }
   ],
   "source": [
    "import requests\n",
    "from bs4 import BeautifulSoup\n",
    "import numpy as np\n",
    "import pandas as pd\n",
    "import datetime"
   ]
  },
  {
   "cell_type": "markdown",
   "id": "4bad25af",
   "metadata": {},
   "source": [
    "### 0. Getting data from CB insights statistics web page. Cheating from [my autoscraper](https://github.com/Hiromisa/unicorn-autoscrape/blob/main/unicornlist.py). "
   ]
  },
  {
   "cell_type": "code",
   "execution_count": 3,
   "id": "430ecd9c",
   "metadata": {},
   "outputs": [],
   "source": [
    "url = 'https://www.cbinsights.com/research-unicorn-companies'\n",
    "df = pd.io.html.read_html(url)\n",
    "df = df[0]\n",
    "df['Valuation ($B)'] = df['Valuation ($B)'].str.replace('$', '', regex=True).astype(float)"
   ]
  },
  {
   "cell_type": "markdown",
   "id": "ad0f64a7",
   "metadata": {},
   "source": [
    "#### If you find error message like '*ParserError: Unknown string format: 7/27/202/td>' , it may be typo of original dataset. How to solve it.\n",
    "1, Check where error happening  str.contains('str of potential typo')   \n",
    "2, Replace it with .replace('typo', 'right strings' )\n",
    "\n",
    "an examples below:"
   ]
  },
  {
   "cell_type": "code",
   "execution_count": 4,
   "id": "3230cec5",
   "metadata": {
    "scrolled": true
   },
   "outputs": [
    {
     "data": {
      "text/html": [
       "<div>\n",
       "<style scoped>\n",
       "    .dataframe tbody tr th:only-of-type {\n",
       "        vertical-align: middle;\n",
       "    }\n",
       "\n",
       "    .dataframe tbody tr th {\n",
       "        vertical-align: top;\n",
       "    }\n",
       "\n",
       "    .dataframe thead th {\n",
       "        text-align: right;\n",
       "    }\n",
       "</style>\n",
       "<table border=\"1\" class=\"dataframe\">\n",
       "  <thead>\n",
       "    <tr style=\"text-align: right;\">\n",
       "      <th></th>\n",
       "      <th>Company</th>\n",
       "      <th>Valuation ($B)</th>\n",
       "      <th>Date Joined</th>\n",
       "      <th>Country</th>\n",
       "      <th>City</th>\n",
       "      <th>Industry</th>\n",
       "      <th>Select Investors</th>\n",
       "    </tr>\n",
       "  </thead>\n",
       "  <tbody>\n",
       "    <tr>\n",
       "      <th>94</th>\n",
       "      <td>Ro</td>\n",
       "      <td>5.00</td>\n",
       "      <td>7/27/2020</td>\n",
       "      <td>United States</td>\n",
       "      <td>New York</td>\n",
       "      <td>Health</td>\n",
       "      <td>Initialized Capital, General Catalyst, SignalFire</td>\n",
       "    </tr>\n",
       "    <tr>\n",
       "      <th>133</th>\n",
       "      <td>iCapital Network</td>\n",
       "      <td>4.00</td>\n",
       "      <td>7/27/202/td&gt;</td>\n",
       "      <td>United States</td>\n",
       "      <td>New York</td>\n",
       "      <td>Fintech</td>\n",
       "      <td>BlackRock, Blackstone, UBS</td>\n",
       "    </tr>\n",
       "    <tr>\n",
       "      <th>171</th>\n",
       "      <td>PsiQuantum</td>\n",
       "      <td>3.15</td>\n",
       "      <td>7/27/2021</td>\n",
       "      <td>United States</td>\n",
       "      <td>Palo Alto</td>\n",
       "      <td>Hardware</td>\n",
       "      <td>Playground Global, M12, BlackRock</td>\n",
       "    </tr>\n",
       "    <tr>\n",
       "      <th>323</th>\n",
       "      <td>Fireblocks</td>\n",
       "      <td>2.00</td>\n",
       "      <td>7/27/2021</td>\n",
       "      <td>United States</td>\n",
       "      <td>New York</td>\n",
       "      <td>Fintech</td>\n",
       "      <td>Tenaya Capital, Coatue Management, Stripes Group</td>\n",
       "    </tr>\n",
       "    <tr>\n",
       "      <th>463</th>\n",
       "      <td>At-Bay</td>\n",
       "      <td>1.35</td>\n",
       "      <td>7/27/2021</td>\n",
       "      <td>United States</td>\n",
       "      <td>Mountain View</td>\n",
       "      <td>Fintech</td>\n",
       "      <td>Lightspeed Venture Partners, Khosla Ventures, ...</td>\n",
       "    </tr>\n",
       "  </tbody>\n",
       "</table>\n",
       "</div>"
      ],
      "text/plain": [
       "              Company  Valuation ($B)   Date Joined        Country  \\\n",
       "94                 Ro            5.00     7/27/2020  United States   \n",
       "133  iCapital Network            4.00  7/27/202/td>  United States   \n",
       "171        PsiQuantum            3.15     7/27/2021  United States   \n",
       "323        Fireblocks            2.00     7/27/2021  United States   \n",
       "463            At-Bay            1.35     7/27/2021  United States   \n",
       "\n",
       "              City  Industry  \\\n",
       "94        New York    Health   \n",
       "133       New York   Fintech   \n",
       "171      Palo Alto  Hardware   \n",
       "323       New York   Fintech   \n",
       "463  Mountain View   Fintech   \n",
       "\n",
       "                                      Select Investors  \n",
       "94   Initialized Capital, General Catalyst, SignalFire  \n",
       "133                         BlackRock, Blackstone, UBS  \n",
       "171                  Playground Global, M12, BlackRock  \n",
       "323   Tenaya Capital, Coatue Management, Stripes Group  \n",
       "463  Lightspeed Venture Partners, Khosla Ventures, ...  "
      ]
     },
     "execution_count": 4,
     "metadata": {},
     "output_type": "execute_result"
    }
   ],
   "source": [
    "df[df['Date Joined'].str.contains('7/27/202')]"
   ]
  },
  {
   "cell_type": "code",
   "execution_count": 7,
   "id": "cee80073",
   "metadata": {},
   "outputs": [],
   "source": [
    "df['Date Joined'] = df['Date Joined'].replace('7/27/202/td>', '7/27/2021')"
   ]
  },
  {
   "cell_type": "code",
   "execution_count": 10,
   "id": "f1468fed",
   "metadata": {},
   "outputs": [],
   "source": [
    "df['Date Joined'] = pd.to_datetime(df['Date Joined'])\n",
    "now = pd.to_datetime('today')\n",
    "df['unicorn_age'] = (now.year - df['Date Joined'].dt.year) - ((now.month - df['Date Joined'].dt.month) < 0)"
   ]
  },
  {
   "cell_type": "markdown",
   "id": "fec0c16e",
   "metadata": {},
   "source": [
    "### 1. How many Unicorns (& Decacorns) in the world?"
   ]
  },
  {
   "cell_type": "markdown",
   "id": "7559536f",
   "metadata": {},
   "source": [
    "Unicorns"
   ]
  },
  {
   "cell_type": "code",
   "execution_count": 11,
   "id": "4349892b",
   "metadata": {
    "scrolled": true
   },
   "outputs": [
    {
     "data": {
      "text/plain": [
       "779"
      ]
     },
     "execution_count": 11,
     "metadata": {},
     "output_type": "execute_result"
    }
   ],
   "source": [
    "len(df)"
   ]
  },
  {
   "cell_type": "markdown",
   "id": "b17e6781",
   "metadata": {},
   "source": [
    "Decacorns"
   ]
  },
  {
   "cell_type": "code",
   "execution_count": 12,
   "id": "3fd8a29e",
   "metadata": {},
   "outputs": [
    {
     "data": {
      "text/plain": [
       "34"
      ]
     },
     "execution_count": 12,
     "metadata": {},
     "output_type": "execute_result"
    }
   ],
   "source": [
    "len(df[df['Valuation ($B)'] >=10])"
   ]
  },
  {
   "cell_type": "markdown",
   "id": "1c3adb4a",
   "metadata": {},
   "source": [
    "#### 1-1. top10 Unicorns by valuation($B)"
   ]
  },
  {
   "cell_type": "code",
   "execution_count": 13,
   "id": "fe8646d1",
   "metadata": {},
   "outputs": [
    {
     "data": {
      "text/html": [
       "<div>\n",
       "<style scoped>\n",
       "    .dataframe tbody tr th:only-of-type {\n",
       "        vertical-align: middle;\n",
       "    }\n",
       "\n",
       "    .dataframe tbody tr th {\n",
       "        vertical-align: top;\n",
       "    }\n",
       "\n",
       "    .dataframe thead th {\n",
       "        text-align: right;\n",
       "    }\n",
       "</style>\n",
       "<table border=\"1\" class=\"dataframe\">\n",
       "  <thead>\n",
       "    <tr style=\"text-align: right;\">\n",
       "      <th></th>\n",
       "      <th>Company</th>\n",
       "      <th>Valuation ($B)</th>\n",
       "      <th>Date Joined</th>\n",
       "      <th>Country</th>\n",
       "      <th>City</th>\n",
       "      <th>Industry</th>\n",
       "      <th>Select Investors</th>\n",
       "      <th>unicorn_age</th>\n",
       "    </tr>\n",
       "  </thead>\n",
       "  <tbody>\n",
       "    <tr>\n",
       "      <th>0</th>\n",
       "      <td>Bytedance</td>\n",
       "      <td>140.0</td>\n",
       "      <td>2017-04-07</td>\n",
       "      <td>China</td>\n",
       "      <td>Beijing</td>\n",
       "      <td>Artificial intelligence</td>\n",
       "      <td>Sequoia Capital China, SIG Asia Investments, S...</td>\n",
       "      <td>4</td>\n",
       "    </tr>\n",
       "    <tr>\n",
       "      <th>1</th>\n",
       "      <td>Stripe</td>\n",
       "      <td>95.0</td>\n",
       "      <td>2014-01-23</td>\n",
       "      <td>United States</td>\n",
       "      <td>San Francisco</td>\n",
       "      <td>Fintech</td>\n",
       "      <td>Khosla Ventures, LowercaseCapital, capitalG</td>\n",
       "      <td>7</td>\n",
       "    </tr>\n",
       "    <tr>\n",
       "      <th>2</th>\n",
       "      <td>SpaceX</td>\n",
       "      <td>74.0</td>\n",
       "      <td>2012-12-01</td>\n",
       "      <td>United States</td>\n",
       "      <td>Hawthorne</td>\n",
       "      <td>Other</td>\n",
       "      <td>Founders Fund, Draper Fisher Jurvetson, Rothen...</td>\n",
       "      <td>8</td>\n",
       "    </tr>\n",
       "    <tr>\n",
       "      <th>3</th>\n",
       "      <td>Klarna</td>\n",
       "      <td>45.6</td>\n",
       "      <td>2011-12-12</td>\n",
       "      <td>Sweden</td>\n",
       "      <td>Stockholm</td>\n",
       "      <td>Fintech</td>\n",
       "      <td>Institutional Venture Partners, Sequoia Capita...</td>\n",
       "      <td>9</td>\n",
       "    </tr>\n",
       "    <tr>\n",
       "      <th>4</th>\n",
       "      <td>Instacart</td>\n",
       "      <td>39.0</td>\n",
       "      <td>2014-12-30</td>\n",
       "      <td>United States</td>\n",
       "      <td>San Francisco</td>\n",
       "      <td>Supply chain, logistics, &amp; delivery</td>\n",
       "      <td>Khosla Ventures, Kleiner Perkins Caufield &amp; By...</td>\n",
       "      <td>6</td>\n",
       "    </tr>\n",
       "    <tr>\n",
       "      <th>5</th>\n",
       "      <td>Revolut</td>\n",
       "      <td>33.0</td>\n",
       "      <td>2018-04-26</td>\n",
       "      <td>United Kingdom</td>\n",
       "      <td>London</td>\n",
       "      <td>Fintech</td>\n",
       "      <td>index Ventures, DST Global, Ribbit Capital</td>\n",
       "      <td>3</td>\n",
       "    </tr>\n",
       "    <tr>\n",
       "      <th>6</th>\n",
       "      <td>Nubank</td>\n",
       "      <td>30.0</td>\n",
       "      <td>2018-03-01</td>\n",
       "      <td>Brazil</td>\n",
       "      <td>Sao Paulo</td>\n",
       "      <td>Fintech</td>\n",
       "      <td>Sequoia Capital, Redpoint e.ventures, Kaszek V...</td>\n",
       "      <td>3</td>\n",
       "    </tr>\n",
       "    <tr>\n",
       "      <th>7</th>\n",
       "      <td>Epic Games</td>\n",
       "      <td>28.7</td>\n",
       "      <td>2018-10-26</td>\n",
       "      <td>United States</td>\n",
       "      <td>Cary</td>\n",
       "      <td>Other</td>\n",
       "      <td>Tencent Holdings, KKR, Smash Ventures</td>\n",
       "      <td>2</td>\n",
       "    </tr>\n",
       "    <tr>\n",
       "      <th>8</th>\n",
       "      <td>Databricks</td>\n",
       "      <td>28.0</td>\n",
       "      <td>2019-02-05</td>\n",
       "      <td>United States</td>\n",
       "      <td>San Francisco</td>\n",
       "      <td>Data management &amp; analytics</td>\n",
       "      <td>Andreessen Horowitz, New Enterprise Associates...</td>\n",
       "      <td>2</td>\n",
       "    </tr>\n",
       "    <tr>\n",
       "      <th>9</th>\n",
       "      <td>Rivian</td>\n",
       "      <td>27.6</td>\n",
       "      <td>2019-09-10</td>\n",
       "      <td>United States</td>\n",
       "      <td>Plymouth</td>\n",
       "      <td>Auto &amp; transportation</td>\n",
       "      <td>Amazon, Ford Motor Company, Cox Automotive</td>\n",
       "      <td>1</td>\n",
       "    </tr>\n",
       "  </tbody>\n",
       "</table>\n",
       "</div>"
      ],
      "text/plain": [
       "      Company  Valuation ($B) Date Joined         Country           City  \\\n",
       "0   Bytedance           140.0  2017-04-07           China        Beijing   \n",
       "1      Stripe            95.0  2014-01-23   United States  San Francisco   \n",
       "2      SpaceX            74.0  2012-12-01   United States      Hawthorne   \n",
       "3      Klarna            45.6  2011-12-12          Sweden      Stockholm   \n",
       "4   Instacart            39.0  2014-12-30   United States  San Francisco   \n",
       "5     Revolut            33.0  2018-04-26  United Kingdom         London   \n",
       "6      Nubank            30.0  2018-03-01          Brazil      Sao Paulo   \n",
       "7  Epic Games            28.7  2018-10-26   United States           Cary   \n",
       "8  Databricks            28.0  2019-02-05   United States  San Francisco   \n",
       "9      Rivian            27.6  2019-09-10   United States       Plymouth   \n",
       "\n",
       "                              Industry  \\\n",
       "0              Artificial intelligence   \n",
       "1                              Fintech   \n",
       "2                                Other   \n",
       "3                              Fintech   \n",
       "4  Supply chain, logistics, & delivery   \n",
       "5                              Fintech   \n",
       "6                              Fintech   \n",
       "7                                Other   \n",
       "8          Data management & analytics   \n",
       "9                Auto & transportation   \n",
       "\n",
       "                                    Select Investors  unicorn_age  \n",
       "0  Sequoia Capital China, SIG Asia Investments, S...            4  \n",
       "1        Khosla Ventures, LowercaseCapital, capitalG            7  \n",
       "2  Founders Fund, Draper Fisher Jurvetson, Rothen...            8  \n",
       "3  Institutional Venture Partners, Sequoia Capita...            9  \n",
       "4  Khosla Ventures, Kleiner Perkins Caufield & By...            6  \n",
       "5         index Ventures, DST Global, Ribbit Capital            3  \n",
       "6  Sequoia Capital, Redpoint e.ventures, Kaszek V...            3  \n",
       "7              Tencent Holdings, KKR, Smash Ventures            2  \n",
       "8  Andreessen Horowitz, New Enterprise Associates...            2  \n",
       "9         Amazon, Ford Motor Company, Cox Automotive            1  "
      ]
     },
     "execution_count": 13,
     "metadata": {},
     "output_type": "execute_result"
    }
   ],
   "source": [
    "df.head(10)"
   ]
  },
  {
   "cell_type": "markdown",
   "id": "0003695b",
   "metadata": {},
   "source": [
    "#### 1-2. who is an old unicorn?"
   ]
  },
  {
   "cell_type": "code",
   "execution_count": 14,
   "id": "1ca49384",
   "metadata": {
    "scrolled": true
   },
   "outputs": [
    {
     "data": {
      "text/html": [
       "<div>\n",
       "<style scoped>\n",
       "    .dataframe tbody tr th:only-of-type {\n",
       "        vertical-align: middle;\n",
       "    }\n",
       "\n",
       "    .dataframe tbody tr th {\n",
       "        vertical-align: top;\n",
       "    }\n",
       "\n",
       "    .dataframe thead th {\n",
       "        text-align: right;\n",
       "    }\n",
       "</style>\n",
       "<table border=\"1\" class=\"dataframe\">\n",
       "  <thead>\n",
       "    <tr style=\"text-align: right;\">\n",
       "      <th></th>\n",
       "      <th>Company</th>\n",
       "      <th>Valuation ($B)</th>\n",
       "      <th>Date Joined</th>\n",
       "      <th>Country</th>\n",
       "      <th>City</th>\n",
       "      <th>Industry</th>\n",
       "      <th>Select Investors</th>\n",
       "      <th>unicorn_age</th>\n",
       "    </tr>\n",
       "  </thead>\n",
       "  <tbody>\n",
       "    <tr>\n",
       "      <th>457</th>\n",
       "      <td>Veepee</td>\n",
       "      <td>1.38</td>\n",
       "      <td>2007-07-20</td>\n",
       "      <td>France</td>\n",
       "      <td>La Plaine Saint-Denis</td>\n",
       "      <td>E-commerce &amp; direct-to-consumer</td>\n",
       "      <td>Summit Partners, Qatar Holding</td>\n",
       "      <td>14</td>\n",
       "    </tr>\n",
       "    <tr>\n",
       "      <th>174</th>\n",
       "      <td>VANCL</td>\n",
       "      <td>3.00</td>\n",
       "      <td>2010-12-14</td>\n",
       "      <td>China</td>\n",
       "      <td>Beijing</td>\n",
       "      <td>E-commerce &amp; direct-to-consumer</td>\n",
       "      <td>Ceyuan Ventures, QiMing Venture Partners, Tema...</td>\n",
       "      <td>10</td>\n",
       "    </tr>\n",
       "    <tr>\n",
       "      <th>76</th>\n",
       "      <td>Vice Media</td>\n",
       "      <td>5.70</td>\n",
       "      <td>2011-04-02</td>\n",
       "      <td>United States</td>\n",
       "      <td>Brooklyn</td>\n",
       "      <td>Internet software &amp; services</td>\n",
       "      <td>Technology Crossover Ventures, A&amp;E Television ...</td>\n",
       "      <td>10</td>\n",
       "    </tr>\n",
       "    <tr>\n",
       "      <th>3</th>\n",
       "      <td>Klarna</td>\n",
       "      <td>45.60</td>\n",
       "      <td>2011-12-12</td>\n",
       "      <td>Sweden</td>\n",
       "      <td>Stockholm</td>\n",
       "      <td>Fintech</td>\n",
       "      <td>Institutional Venture Partners, Sequoia Capita...</td>\n",
       "      <td>9</td>\n",
       "    </tr>\n",
       "    <tr>\n",
       "      <th>278</th>\n",
       "      <td>Trendy Group International</td>\n",
       "      <td>2.00</td>\n",
       "      <td>2012-02-13</td>\n",
       "      <td>Hong Kong</td>\n",
       "      <td>Kowloon</td>\n",
       "      <td>Consumer &amp; retail</td>\n",
       "      <td>L Capital Partners</td>\n",
       "      <td>9</td>\n",
       "    </tr>\n",
       "  </tbody>\n",
       "</table>\n",
       "</div>"
      ],
      "text/plain": [
       "                        Company  Valuation ($B) Date Joined        Country  \\\n",
       "457                      Veepee            1.38  2007-07-20         France   \n",
       "174                       VANCL            3.00  2010-12-14          China   \n",
       "76                   Vice Media            5.70  2011-04-02  United States   \n",
       "3                        Klarna           45.60  2011-12-12         Sweden   \n",
       "278  Trendy Group International            2.00  2012-02-13      Hong Kong   \n",
       "\n",
       "                      City                         Industry  \\\n",
       "457  La Plaine Saint-Denis  E-commerce & direct-to-consumer   \n",
       "174                Beijing  E-commerce & direct-to-consumer   \n",
       "76                Brooklyn     Internet software & services   \n",
       "3                Stockholm                          Fintech   \n",
       "278                Kowloon                Consumer & retail   \n",
       "\n",
       "                                      Select Investors  unicorn_age  \n",
       "457                     Summit Partners, Qatar Holding           14  \n",
       "174  Ceyuan Ventures, QiMing Venture Partners, Tema...           10  \n",
       "76   Technology Crossover Ventures, A&E Television ...           10  \n",
       "3    Institutional Venture Partners, Sequoia Capita...            9  \n",
       "278                                 L Capital Partners            9  "
      ]
     },
     "execution_count": 14,
     "metadata": {},
     "output_type": "execute_result"
    }
   ],
   "source": [
    "df.sort_values(by = 'unicorn_age', ascending=False).head()"
   ]
  },
  {
   "cell_type": "markdown",
   "id": "bc0c9e15",
   "metadata": {},
   "source": [
    "#### 1-3. who is new?"
   ]
  },
  {
   "cell_type": "markdown",
   "id": "27a8313b",
   "metadata": {},
   "source": [
    "#### 1-3-1. joined unicorn club within a year"
   ]
  },
  {
   "cell_type": "code",
   "execution_count": 15,
   "id": "5f24b32f",
   "metadata": {},
   "outputs": [],
   "source": [
    "df_new = df[df['unicorn_age'] < 1].sort_values(by = 'Date Joined', ascending=False)"
   ]
  },
  {
   "cell_type": "code",
   "execution_count": 16,
   "id": "903d9c7e",
   "metadata": {
    "scrolled": true
   },
   "outputs": [
    {
     "data": {
      "text/html": [
       "<div>\n",
       "<style scoped>\n",
       "    .dataframe tbody tr th:only-of-type {\n",
       "        vertical-align: middle;\n",
       "    }\n",
       "\n",
       "    .dataframe tbody tr th {\n",
       "        vertical-align: top;\n",
       "    }\n",
       "\n",
       "    .dataframe thead th {\n",
       "        text-align: right;\n",
       "    }\n",
       "</style>\n",
       "<table border=\"1\" class=\"dataframe\">\n",
       "  <thead>\n",
       "    <tr style=\"text-align: right;\">\n",
       "      <th></th>\n",
       "      <th>Company</th>\n",
       "      <th>Valuation ($B)</th>\n",
       "      <th>Date Joined</th>\n",
       "      <th>Country</th>\n",
       "      <th>City</th>\n",
       "      <th>Industry</th>\n",
       "      <th>Select Investors</th>\n",
       "      <th>unicorn_age</th>\n",
       "    </tr>\n",
       "  </thead>\n",
       "  <tbody>\n",
       "    <tr>\n",
       "      <th>249</th>\n",
       "      <td>Odoo</td>\n",
       "      <td>2.30</td>\n",
       "      <td>2021-07-29</td>\n",
       "      <td>Belgium</td>\n",
       "      <td>Louvain-la-Neuve</td>\n",
       "      <td>Internet software &amp; services</td>\n",
       "      <td>Summit Partners, Noshaq, Sofinnova Partners</td>\n",
       "      <td>0</td>\n",
       "    </tr>\n",
       "    <tr>\n",
       "      <th>425</th>\n",
       "      <td>Culture Amp</td>\n",
       "      <td>1.50</td>\n",
       "      <td>2021-07-29</td>\n",
       "      <td>Australia</td>\n",
       "      <td>Richmond</td>\n",
       "      <td>Internet software &amp; services</td>\n",
       "      <td>Felicis Ventures, Index Ventures, Blackbird Ve...</td>\n",
       "      <td>0</td>\n",
       "    </tr>\n",
       "    <tr>\n",
       "      <th>146</th>\n",
       "      <td>Redwood Materials</td>\n",
       "      <td>3.70</td>\n",
       "      <td>2021-07-28</td>\n",
       "      <td>United States</td>\n",
       "      <td>Carson City</td>\n",
       "      <td>Other</td>\n",
       "      <td>Breakthrough Energy Ventures, Capricorn Invest...</td>\n",
       "      <td>0</td>\n",
       "    </tr>\n",
       "    <tr>\n",
       "      <th>200</th>\n",
       "      <td>Contentful</td>\n",
       "      <td>3.00</td>\n",
       "      <td>2021-07-28</td>\n",
       "      <td>Germany</td>\n",
       "      <td>Berlin</td>\n",
       "      <td>Internet software &amp; services</td>\n",
       "      <td>Balderton Capital, General Catalyst, Tiger Glo...</td>\n",
       "      <td>0</td>\n",
       "    </tr>\n",
       "    <tr>\n",
       "      <th>253</th>\n",
       "      <td>Algolia</td>\n",
       "      <td>2.25</td>\n",
       "      <td>2021-07-28</td>\n",
       "      <td>United States</td>\n",
       "      <td>San Francisco</td>\n",
       "      <td>Internet software &amp; services</td>\n",
       "      <td>Accel, Alven Capital, Storm Ventures</td>\n",
       "      <td>0</td>\n",
       "    </tr>\n",
       "  </tbody>\n",
       "</table>\n",
       "</div>"
      ],
      "text/plain": [
       "               Company  Valuation ($B) Date Joined        Country  \\\n",
       "249               Odoo            2.30  2021-07-29        Belgium   \n",
       "425        Culture Amp            1.50  2021-07-29      Australia   \n",
       "146  Redwood Materials            3.70  2021-07-28  United States   \n",
       "200         Contentful            3.00  2021-07-28        Germany   \n",
       "253            Algolia            2.25  2021-07-28  United States   \n",
       "\n",
       "                 City                      Industry  \\\n",
       "249  Louvain-la-Neuve  Internet software & services   \n",
       "425          Richmond  Internet software & services   \n",
       "146       Carson City                         Other   \n",
       "200            Berlin  Internet software & services   \n",
       "253     San Francisco  Internet software & services   \n",
       "\n",
       "                                      Select Investors  unicorn_age  \n",
       "249        Summit Partners, Noshaq, Sofinnova Partners            0  \n",
       "425  Felicis Ventures, Index Ventures, Blackbird Ve...            0  \n",
       "146  Breakthrough Energy Ventures, Capricorn Invest...            0  \n",
       "200  Balderton Capital, General Catalyst, Tiger Glo...            0  \n",
       "253               Accel, Alven Capital, Storm Ventures            0  "
      ]
     },
     "execution_count": 16,
     "metadata": {},
     "output_type": "execute_result"
    }
   ],
   "source": [
    "df_new.head()"
   ]
  },
  {
   "cell_type": "code",
   "execution_count": 17,
   "id": "fd324841",
   "metadata": {},
   "outputs": [
    {
     "data": {
      "text/plain": [
       "355"
      ]
     },
     "execution_count": 17,
     "metadata": {},
     "output_type": "execute_result"
    }
   ],
   "source": [
    "len(df_new)"
   ]
  },
  {
   "cell_type": "markdown",
   "id": "ff5576a8",
   "metadata": {},
   "source": [
    "#### 1-3-2. filter on 'Date Joined' You can change '2021-07-20' to your favorite date."
   ]
  },
  {
   "cell_type": "code",
   "execution_count": 18,
   "id": "22136827",
   "metadata": {},
   "outputs": [
    {
     "data": {
      "text/html": [
       "<div>\n",
       "<style scoped>\n",
       "    .dataframe tbody tr th:only-of-type {\n",
       "        vertical-align: middle;\n",
       "    }\n",
       "\n",
       "    .dataframe tbody tr th {\n",
       "        vertical-align: top;\n",
       "    }\n",
       "\n",
       "    .dataframe thead th {\n",
       "        text-align: right;\n",
       "    }\n",
       "</style>\n",
       "<table border=\"1\" class=\"dataframe\">\n",
       "  <thead>\n",
       "    <tr style=\"text-align: right;\">\n",
       "      <th></th>\n",
       "      <th>Company</th>\n",
       "      <th>Valuation ($B)</th>\n",
       "      <th>Date Joined</th>\n",
       "      <th>Country</th>\n",
       "      <th>City</th>\n",
       "      <th>Industry</th>\n",
       "      <th>Select Investors</th>\n",
       "      <th>unicorn_age</th>\n",
       "    </tr>\n",
       "  </thead>\n",
       "  <tbody>\n",
       "    <tr>\n",
       "      <th>10</th>\n",
       "      <td>FTX</td>\n",
       "      <td>18.00</td>\n",
       "      <td>2021-07-20</td>\n",
       "      <td>Hong Kong</td>\n",
       "      <td>NaN</td>\n",
       "      <td>Fintech</td>\n",
       "      <td>Sequoia Capital, Thoma Bravo, Softbank</td>\n",
       "      <td>0</td>\n",
       "    </tr>\n",
       "    <tr>\n",
       "      <th>133</th>\n",
       "      <td>iCapital Network</td>\n",
       "      <td>4.00</td>\n",
       "      <td>2021-07-27</td>\n",
       "      <td>United States</td>\n",
       "      <td>New York</td>\n",
       "      <td>Fintech</td>\n",
       "      <td>BlackRock, Blackstone, UBS</td>\n",
       "      <td>0</td>\n",
       "    </tr>\n",
       "    <tr>\n",
       "      <th>138</th>\n",
       "      <td>Sorare</td>\n",
       "      <td>3.80</td>\n",
       "      <td>2021-07-17</td>\n",
       "      <td>France</td>\n",
       "      <td>Paris</td>\n",
       "      <td>E-commerce &amp; direct-to-consumer</td>\n",
       "      <td>Y Combinator, Atomico, Accel</td>\n",
       "      <td>0</td>\n",
       "    </tr>\n",
       "    <tr>\n",
       "      <th>141</th>\n",
       "      <td>Articulate</td>\n",
       "      <td>3.75</td>\n",
       "      <td>2021-07-01</td>\n",
       "      <td>United States</td>\n",
       "      <td>New York</td>\n",
       "      <td>Edtech</td>\n",
       "      <td>Redpoint Ventures, Harrison Metal, Bessemer Ve...</td>\n",
       "      <td>0</td>\n",
       "    </tr>\n",
       "    <tr>\n",
       "      <th>146</th>\n",
       "      <td>Redwood Materials</td>\n",
       "      <td>3.70</td>\n",
       "      <td>2021-07-28</td>\n",
       "      <td>United States</td>\n",
       "      <td>Carson City</td>\n",
       "      <td>Other</td>\n",
       "      <td>Breakthrough Energy Ventures, Capricorn Invest...</td>\n",
       "      <td>0</td>\n",
       "    </tr>\n",
       "    <tr>\n",
       "      <th>...</th>\n",
       "      <td>...</td>\n",
       "      <td>...</td>\n",
       "      <td>...</td>\n",
       "      <td>...</td>\n",
       "      <td>...</td>\n",
       "      <td>...</td>\n",
       "      <td>...</td>\n",
       "      <td>...</td>\n",
       "    </tr>\n",
       "    <tr>\n",
       "      <th>774</th>\n",
       "      <td>GO1</td>\n",
       "      <td>1.00</td>\n",
       "      <td>2021-07-19</td>\n",
       "      <td>Australia</td>\n",
       "      <td>Brisbane</td>\n",
       "      <td>Internet software &amp; services</td>\n",
       "      <td>Y Combinator, M12, SEEK</td>\n",
       "      <td>0</td>\n",
       "    </tr>\n",
       "    <tr>\n",
       "      <th>775</th>\n",
       "      <td>Carsome</td>\n",
       "      <td>1.00</td>\n",
       "      <td>2021-07-12</td>\n",
       "      <td>Malaysia</td>\n",
       "      <td>Selangor</td>\n",
       "      <td>E-commerce &amp; direct-to-consumer</td>\n",
       "      <td>Gobi Partners, 500 Startups, Ondine Capital</td>\n",
       "      <td>0</td>\n",
       "    </tr>\n",
       "    <tr>\n",
       "      <th>776</th>\n",
       "      <td>Interos</td>\n",
       "      <td>1.00</td>\n",
       "      <td>2021-07-22</td>\n",
       "      <td>United States</td>\n",
       "      <td>Arlington</td>\n",
       "      <td>Fintech</td>\n",
       "      <td>Kleiner Perkins Caufield &amp; Byers, NightDragon ...</td>\n",
       "      <td>0</td>\n",
       "    </tr>\n",
       "    <tr>\n",
       "      <th>777</th>\n",
       "      <td>BlackBuck</td>\n",
       "      <td>1.00</td>\n",
       "      <td>2021-07-22</td>\n",
       "      <td>India</td>\n",
       "      <td>Bengaluru</td>\n",
       "      <td>Supply chain, logistics, &amp; delivery</td>\n",
       "      <td>Accel, Sands Capital, International Finance Co...</td>\n",
       "      <td>0</td>\n",
       "    </tr>\n",
       "    <tr>\n",
       "      <th>778</th>\n",
       "      <td>NIUM</td>\n",
       "      <td>1.00</td>\n",
       "      <td>2021-07-13</td>\n",
       "      <td>Singapore</td>\n",
       "      <td>NaN</td>\n",
       "      <td>Fintech</td>\n",
       "      <td>Vertex Ventures SE Asia, Global Founders Capit...</td>\n",
       "      <td>0</td>\n",
       "    </tr>\n",
       "  </tbody>\n",
       "</table>\n",
       "<p>61 rows × 8 columns</p>\n",
       "</div>"
      ],
      "text/plain": [
       "               Company  Valuation ($B) Date Joined        Country  \\\n",
       "10                 FTX           18.00  2021-07-20      Hong Kong   \n",
       "133   iCapital Network            4.00  2021-07-27  United States   \n",
       "138             Sorare            3.80  2021-07-17         France   \n",
       "141         Articulate            3.75  2021-07-01  United States   \n",
       "146  Redwood Materials            3.70  2021-07-28  United States   \n",
       "..                 ...             ...         ...            ...   \n",
       "774                GO1            1.00  2021-07-19      Australia   \n",
       "775            Carsome            1.00  2021-07-12       Malaysia   \n",
       "776            Interos            1.00  2021-07-22  United States   \n",
       "777          BlackBuck            1.00  2021-07-22          India   \n",
       "778               NIUM            1.00  2021-07-13      Singapore   \n",
       "\n",
       "            City                             Industry  \\\n",
       "10           NaN                              Fintech   \n",
       "133     New York                              Fintech   \n",
       "138        Paris      E-commerce & direct-to-consumer   \n",
       "141     New York                               Edtech   \n",
       "146  Carson City                                Other   \n",
       "..           ...                                  ...   \n",
       "774     Brisbane         Internet software & services   \n",
       "775     Selangor      E-commerce & direct-to-consumer   \n",
       "776    Arlington                              Fintech   \n",
       "777    Bengaluru  Supply chain, logistics, & delivery   \n",
       "778          NaN                              Fintech   \n",
       "\n",
       "                                      Select Investors  unicorn_age  \n",
       "10              Sequoia Capital, Thoma Bravo, Softbank            0  \n",
       "133                         BlackRock, Blackstone, UBS            0  \n",
       "138                       Y Combinator, Atomico, Accel            0  \n",
       "141  Redpoint Ventures, Harrison Metal, Bessemer Ve...            0  \n",
       "146  Breakthrough Energy Ventures, Capricorn Invest...            0  \n",
       "..                                                 ...          ...  \n",
       "774                            Y Combinator, M12, SEEK            0  \n",
       "775        Gobi Partners, 500 Startups, Ondine Capital            0  \n",
       "776  Kleiner Perkins Caufield & Byers, NightDragon ...            0  \n",
       "777  Accel, Sands Capital, International Finance Co...            0  \n",
       "778  Vertex Ventures SE Asia, Global Founders Capit...            0  \n",
       "\n",
       "[61 rows x 8 columns]"
      ]
     },
     "execution_count": 18,
     "metadata": {},
     "output_type": "execute_result"
    }
   ],
   "source": [
    "df[df['Date Joined'] >= '2021-06-20']"
   ]
  },
  {
   "cell_type": "markdown",
   "id": "52c4c3d1",
   "metadata": {},
   "source": [
    "#### 1-4. SUM of unicorns valuation"
   ]
  },
  {
   "cell_type": "code",
   "execution_count": 19,
   "id": "30770570",
   "metadata": {},
   "outputs": [
    {
     "data": {
      "text/plain": [
       "2484.58"
      ]
     },
     "execution_count": 19,
     "metadata": {},
     "output_type": "execute_result"
    }
   ],
   "source": [
    "df['Valuation ($B)'].sum()"
   ]
  },
  {
   "cell_type": "markdown",
   "id": "dd5f7ee2",
   "metadata": {},
   "source": [
    "### 2. count by country"
   ]
  },
  {
   "cell_type": "code",
   "execution_count": 20,
   "id": "7c55536e",
   "metadata": {},
   "outputs": [],
   "source": [
    "countries = df.Country.value_counts()\n",
    "df_countries = pd.DataFrame(countries)"
   ]
  },
  {
   "cell_type": "code",
   "execution_count": 21,
   "id": "53b922d2",
   "metadata": {},
   "outputs": [
    {
     "data": {
      "text/html": [
       "<div>\n",
       "<style scoped>\n",
       "    .dataframe tbody tr th:only-of-type {\n",
       "        vertical-align: middle;\n",
       "    }\n",
       "\n",
       "    .dataframe tbody tr th {\n",
       "        vertical-align: top;\n",
       "    }\n",
       "\n",
       "    .dataframe thead th {\n",
       "        text-align: right;\n",
       "    }\n",
       "</style>\n",
       "<table border=\"1\" class=\"dataframe\">\n",
       "  <thead>\n",
       "    <tr style=\"text-align: right;\">\n",
       "      <th></th>\n",
       "      <th>Country</th>\n",
       "    </tr>\n",
       "  </thead>\n",
       "  <tbody>\n",
       "    <tr>\n",
       "      <th>United States</th>\n",
       "      <td>392</td>\n",
       "    </tr>\n",
       "    <tr>\n",
       "      <th>China</th>\n",
       "      <td>156</td>\n",
       "    </tr>\n",
       "    <tr>\n",
       "      <th>India</th>\n",
       "      <td>34</td>\n",
       "    </tr>\n",
       "    <tr>\n",
       "      <th>United Kingdom</th>\n",
       "      <td>31</td>\n",
       "    </tr>\n",
       "    <tr>\n",
       "      <th>Germany</th>\n",
       "      <td>18</td>\n",
       "    </tr>\n",
       "    <tr>\n",
       "      <th>Israel</th>\n",
       "      <td>18</td>\n",
       "    </tr>\n",
       "    <tr>\n",
       "      <th>France</th>\n",
       "      <td>17</td>\n",
       "    </tr>\n",
       "    <tr>\n",
       "      <th>Canada</th>\n",
       "      <td>13</td>\n",
       "    </tr>\n",
       "    <tr>\n",
       "      <th>South Korea</th>\n",
       "      <td>11</td>\n",
       "    </tr>\n",
       "    <tr>\n",
       "      <th>Brazil</th>\n",
       "      <td>11</td>\n",
       "    </tr>\n",
       "    <tr>\n",
       "      <th>Singapore</th>\n",
       "      <td>7</td>\n",
       "    </tr>\n",
       "    <tr>\n",
       "      <th>Japan</th>\n",
       "      <td>6</td>\n",
       "    </tr>\n",
       "    <tr>\n",
       "      <th>Hong Kong</th>\n",
       "      <td>6</td>\n",
       "    </tr>\n",
       "    <tr>\n",
       "      <th>Australia</th>\n",
       "      <td>6</td>\n",
       "    </tr>\n",
       "    <tr>\n",
       "      <th>Switzerland</th>\n",
       "      <td>5</td>\n",
       "    </tr>\n",
       "    <tr>\n",
       "      <th>Indonesia</th>\n",
       "      <td>5</td>\n",
       "    </tr>\n",
       "    <tr>\n",
       "      <th>Sweden</th>\n",
       "      <td>4</td>\n",
       "    </tr>\n",
       "    <tr>\n",
       "      <th>Netherlands</th>\n",
       "      <td>4</td>\n",
       "    </tr>\n",
       "    <tr>\n",
       "      <th>Mexico</th>\n",
       "      <td>3</td>\n",
       "    </tr>\n",
       "    <tr>\n",
       "      <th>Ireland</th>\n",
       "      <td>3</td>\n",
       "    </tr>\n",
       "    <tr>\n",
       "      <th>United Arab Emirates</th>\n",
       "      <td>3</td>\n",
       "    </tr>\n",
       "    <tr>\n",
       "      <th>South Africa</th>\n",
       "      <td>2</td>\n",
       "    </tr>\n",
       "    <tr>\n",
       "      <th>Denmark</th>\n",
       "      <td>2</td>\n",
       "    </tr>\n",
       "    <tr>\n",
       "      <th>Colombia</th>\n",
       "      <td>2</td>\n",
       "    </tr>\n",
       "    <tr>\n",
       "      <th>Turkey</th>\n",
       "      <td>2</td>\n",
       "    </tr>\n",
       "    <tr>\n",
       "      <th>Belgium</th>\n",
       "      <td>2</td>\n",
       "    </tr>\n",
       "    <tr>\n",
       "      <th>Spain</th>\n",
       "      <td>2</td>\n",
       "    </tr>\n",
       "    <tr>\n",
       "      <th>Austria</th>\n",
       "      <td>2</td>\n",
       "    </tr>\n",
       "    <tr>\n",
       "      <th>Thailand</th>\n",
       "      <td>1</td>\n",
       "    </tr>\n",
       "    <tr>\n",
       "      <th>Finland</th>\n",
       "      <td>1</td>\n",
       "    </tr>\n",
       "    <tr>\n",
       "      <th>Lithuania</th>\n",
       "      <td>1</td>\n",
       "    </tr>\n",
       "    <tr>\n",
       "      <th>Luxembourg</th>\n",
       "      <td>1</td>\n",
       "    </tr>\n",
       "    <tr>\n",
       "      <th>Czech Republic</th>\n",
       "      <td>1</td>\n",
       "    </tr>\n",
       "    <tr>\n",
       "      <th>Chile</th>\n",
       "      <td>1</td>\n",
       "    </tr>\n",
       "    <tr>\n",
       "      <th>Estonia</th>\n",
       "      <td>1</td>\n",
       "    </tr>\n",
       "    <tr>\n",
       "      <th>Croatia</th>\n",
       "      <td>1</td>\n",
       "    </tr>\n",
       "    <tr>\n",
       "      <th>Norway</th>\n",
       "      <td>1</td>\n",
       "    </tr>\n",
       "    <tr>\n",
       "      <th>Bermuda</th>\n",
       "      <td>1</td>\n",
       "    </tr>\n",
       "    <tr>\n",
       "      <th>Philippines</th>\n",
       "      <td>1</td>\n",
       "    </tr>\n",
       "    <tr>\n",
       "      <th>Malaysia</th>\n",
       "      <td>1</td>\n",
       "    </tr>\n",
       "  </tbody>\n",
       "</table>\n",
       "</div>"
      ],
      "text/plain": [
       "                      Country\n",
       "United States             392\n",
       "China                     156\n",
       "India                      34\n",
       "United Kingdom             31\n",
       "Germany                    18\n",
       "Israel                     18\n",
       "France                     17\n",
       "Canada                     13\n",
       "South Korea                11\n",
       "Brazil                     11\n",
       "Singapore                   7\n",
       "Japan                       6\n",
       "Hong Kong                   6\n",
       "Australia                   6\n",
       "Switzerland                 5\n",
       "Indonesia                   5\n",
       "Sweden                      4\n",
       "Netherlands                 4\n",
       "Mexico                      3\n",
       "Ireland                     3\n",
       "United Arab Emirates        3\n",
       "South Africa                2\n",
       "Denmark                     2\n",
       "Colombia                    2\n",
       "Turkey                      2\n",
       "Belgium                     2\n",
       "Spain                       2\n",
       "Austria                     2\n",
       "Thailand                    1\n",
       "Finland                     1\n",
       "Lithuania                   1\n",
       "Luxembourg                  1\n",
       "Czech Republic              1\n",
       "Chile                       1\n",
       "Estonia                     1\n",
       "Croatia                     1\n",
       "Norway                      1\n",
       "Bermuda                     1\n",
       "Philippines                 1\n",
       "Malaysia                    1"
      ]
     },
     "execution_count": 21,
     "metadata": {},
     "output_type": "execute_result"
    }
   ],
   "source": [
    "df_countries"
   ]
  },
  {
   "cell_type": "markdown",
   "id": "1f832ab0",
   "metadata": {},
   "source": [
    "#### 2-1. How many countries have Unicorn?"
   ]
  },
  {
   "cell_type": "code",
   "execution_count": 22,
   "id": "4b03a974",
   "metadata": {},
   "outputs": [
    {
     "data": {
      "text/plain": [
       "40"
      ]
     },
     "execution_count": 22,
     "metadata": {},
     "output_type": "execute_result"
    }
   ],
   "source": [
    "len(df_countries)"
   ]
  },
  {
   "cell_type": "markdown",
   "id": "1ffeb9f0",
   "metadata": {},
   "source": [
    "#### 2-2. Countries that have more than 10 Unicorns"
   ]
  },
  {
   "cell_type": "code",
   "execution_count": 23,
   "id": "85e2abf2",
   "metadata": {
    "scrolled": true
   },
   "outputs": [
    {
     "data": {
      "text/html": [
       "<div>\n",
       "<style scoped>\n",
       "    .dataframe tbody tr th:only-of-type {\n",
       "        vertical-align: middle;\n",
       "    }\n",
       "\n",
       "    .dataframe tbody tr th {\n",
       "        vertical-align: top;\n",
       "    }\n",
       "\n",
       "    .dataframe thead th {\n",
       "        text-align: right;\n",
       "    }\n",
       "</style>\n",
       "<table border=\"1\" class=\"dataframe\">\n",
       "  <thead>\n",
       "    <tr style=\"text-align: right;\">\n",
       "      <th></th>\n",
       "      <th>Country</th>\n",
       "    </tr>\n",
       "  </thead>\n",
       "  <tbody>\n",
       "    <tr>\n",
       "      <th>United States</th>\n",
       "      <td>392</td>\n",
       "    </tr>\n",
       "    <tr>\n",
       "      <th>China</th>\n",
       "      <td>156</td>\n",
       "    </tr>\n",
       "    <tr>\n",
       "      <th>India</th>\n",
       "      <td>34</td>\n",
       "    </tr>\n",
       "    <tr>\n",
       "      <th>United Kingdom</th>\n",
       "      <td>31</td>\n",
       "    </tr>\n",
       "    <tr>\n",
       "      <th>Germany</th>\n",
       "      <td>18</td>\n",
       "    </tr>\n",
       "    <tr>\n",
       "      <th>Israel</th>\n",
       "      <td>18</td>\n",
       "    </tr>\n",
       "    <tr>\n",
       "      <th>France</th>\n",
       "      <td>17</td>\n",
       "    </tr>\n",
       "    <tr>\n",
       "      <th>Canada</th>\n",
       "      <td>13</td>\n",
       "    </tr>\n",
       "    <tr>\n",
       "      <th>South Korea</th>\n",
       "      <td>11</td>\n",
       "    </tr>\n",
       "    <tr>\n",
       "      <th>Brazil</th>\n",
       "      <td>11</td>\n",
       "    </tr>\n",
       "  </tbody>\n",
       "</table>\n",
       "</div>"
      ],
      "text/plain": [
       "                Country\n",
       "United States       392\n",
       "China               156\n",
       "India                34\n",
       "United Kingdom       31\n",
       "Germany              18\n",
       "Israel               18\n",
       "France               17\n",
       "Canada               13\n",
       "South Korea          11\n",
       "Brazil               11"
      ]
     },
     "execution_count": 23,
     "metadata": {},
     "output_type": "execute_result"
    }
   ],
   "source": [
    "df_countries[df_countries.Country > 10]"
   ]
  },
  {
   "cell_type": "code",
   "execution_count": 24,
   "id": "7854c9f2",
   "metadata": {
    "scrolled": true
   },
   "outputs": [
    {
     "data": {
      "text/plain": [
       "<AxesSubplot:>"
      ]
     },
     "execution_count": 24,
     "metadata": {},
     "output_type": "execute_result"
    },
    {
     "data": {
      "image/png": "[encoded data removed]",
      "text/plain": [
       "<Figure size 432x288 with 1 Axes>"
      ]
     },
     "metadata": {
      "needs_background": "light"
     },
     "output_type": "display_data"
    }
   ],
   "source": [
    "df_countries[df_countries.Country > 10].plot(kind='barh')"
   ]
  },
  {
   "cell_type": "code",
   "execution_count": 25,
   "id": "24445aae",
   "metadata": {},
   "outputs": [],
   "source": [
    "# df_countries.to_csv('unicorn_by_country.csv')"
   ]
  },
  {
   "cell_type": "markdown",
   "id": "07331b0a",
   "metadata": {},
   "source": [
    "#### 2-3.  The number of Japan-based Unicorn"
   ]
  },
  {
   "cell_type": "code",
   "execution_count": 26,
   "id": "9d67ed90",
   "metadata": {},
   "outputs": [
    {
     "data": {
      "text/html": [
       "<div>\n",
       "<style scoped>\n",
       "    .dataframe tbody tr th:only-of-type {\n",
       "        vertical-align: middle;\n",
       "    }\n",
       "\n",
       "    .dataframe tbody tr th {\n",
       "        vertical-align: top;\n",
       "    }\n",
       "\n",
       "    .dataframe thead th {\n",
       "        text-align: right;\n",
       "    }\n",
       "</style>\n",
       "<table border=\"1\" class=\"dataframe\">\n",
       "  <thead>\n",
       "    <tr style=\"text-align: right;\">\n",
       "      <th></th>\n",
       "      <th>Country</th>\n",
       "    </tr>\n",
       "  </thead>\n",
       "  <tbody>\n",
       "    <tr>\n",
       "      <th>Japan</th>\n",
       "      <td>6</td>\n",
       "    </tr>\n",
       "  </tbody>\n",
       "</table>\n",
       "</div>"
      ],
      "text/plain": [
       "       Country\n",
       "Japan        6"
      ]
     },
     "execution_count": 26,
     "metadata": {},
     "output_type": "execute_result"
    }
   ],
   "source": [
    "# df_cities.index\n",
    "df_countries.loc[['Japan'],['Country']]"
   ]
  },
  {
   "cell_type": "markdown",
   "id": "5efb3fe0",
   "metadata": {},
   "source": [
    "#### 2-4. The list of Japan-based Unicorns"
   ]
  },
  {
   "cell_type": "code",
   "execution_count": 27,
   "id": "8b951c01",
   "metadata": {},
   "outputs": [
    {
     "data": {
      "text/html": [
       "<div>\n",
       "<style scoped>\n",
       "    .dataframe tbody tr th:only-of-type {\n",
       "        vertical-align: middle;\n",
       "    }\n",
       "\n",
       "    .dataframe tbody tr th {\n",
       "        vertical-align: top;\n",
       "    }\n",
       "\n",
       "    .dataframe thead th {\n",
       "        text-align: right;\n",
       "    }\n",
       "</style>\n",
       "<table border=\"1\" class=\"dataframe\">\n",
       "  <thead>\n",
       "    <tr style=\"text-align: right;\">\n",
       "      <th></th>\n",
       "      <th>Company</th>\n",
       "      <th>Valuation ($B)</th>\n",
       "      <th>Date Joined</th>\n",
       "      <th>Country</th>\n",
       "      <th>City</th>\n",
       "      <th>Industry</th>\n",
       "      <th>Select Investors</th>\n",
       "      <th>unicorn_age</th>\n",
       "    </tr>\n",
       "  </thead>\n",
       "  <tbody>\n",
       "    <tr>\n",
       "      <th>287</th>\n",
       "      <td>Preferred Networks</td>\n",
       "      <td>2.0</td>\n",
       "      <td>2018-05-17</td>\n",
       "      <td>Japan</td>\n",
       "      <td>Tokyo</td>\n",
       "      <td>Artificial intelligence</td>\n",
       "      <td>Toyota Motor Corporation, Mizuho Financial Gro...</td>\n",
       "      <td>3</td>\n",
       "    </tr>\n",
       "    <tr>\n",
       "      <th>384</th>\n",
       "      <td>SmartHR</td>\n",
       "      <td>1.6</td>\n",
       "      <td>2021-06-08</td>\n",
       "      <td>Japan</td>\n",
       "      <td>Tokyo</td>\n",
       "      <td>Fintech</td>\n",
       "      <td>BEENEXT, World Innovation Lab, Light Street Ca...</td>\n",
       "      <td>0</td>\n",
       "    </tr>\n",
       "    <tr>\n",
       "      <th>504</th>\n",
       "      <td>SmartNews</td>\n",
       "      <td>1.2</td>\n",
       "      <td>2019-08-05</td>\n",
       "      <td>Japan</td>\n",
       "      <td>Tokyo</td>\n",
       "      <td>Mobile &amp; telecommunications</td>\n",
       "      <td>Japan Post Capital, Globis Capital Partners, A...</td>\n",
       "      <td>1</td>\n",
       "    </tr>\n",
       "    <tr>\n",
       "      <th>519</th>\n",
       "      <td>Paidy</td>\n",
       "      <td>1.2</td>\n",
       "      <td>2021-03-30</td>\n",
       "      <td>Japan</td>\n",
       "      <td>Tokyo</td>\n",
       "      <td>Fintech</td>\n",
       "      <td>ITOCHU Corporation, Arbor Ventures, Soros Fund...</td>\n",
       "      <td>0</td>\n",
       "    </tr>\n",
       "    <tr>\n",
       "      <th>648</th>\n",
       "      <td>Liquid</td>\n",
       "      <td>1.0</td>\n",
       "      <td>2019-04-03</td>\n",
       "      <td>Japan</td>\n",
       "      <td>Tokyo</td>\n",
       "      <td>Fintech</td>\n",
       "      <td>JAFCO Co, Bitmain Technologies, IDG Capital</td>\n",
       "      <td>2</td>\n",
       "    </tr>\n",
       "    <tr>\n",
       "      <th>683</th>\n",
       "      <td>Playco</td>\n",
       "      <td>1.0</td>\n",
       "      <td>2020-09-21</td>\n",
       "      <td>Japan</td>\n",
       "      <td>Tokyo</td>\n",
       "      <td>Other</td>\n",
       "      <td>Sozo Ventures, Caffeinated Capital, Sequoia Ca...</td>\n",
       "      <td>0</td>\n",
       "    </tr>\n",
       "  </tbody>\n",
       "</table>\n",
       "</div>"
      ],
      "text/plain": [
       "                Company  Valuation ($B) Date Joined Country   City  \\\n",
       "287  Preferred Networks             2.0  2018-05-17   Japan  Tokyo   \n",
       "384             SmartHR             1.6  2021-06-08   Japan  Tokyo   \n",
       "504           SmartNews             1.2  2019-08-05   Japan  Tokyo   \n",
       "519               Paidy             1.2  2021-03-30   Japan  Tokyo   \n",
       "648              Liquid             1.0  2019-04-03   Japan  Tokyo   \n",
       "683              Playco             1.0  2020-09-21   Japan  Tokyo   \n",
       "\n",
       "                        Industry  \\\n",
       "287      Artificial intelligence   \n",
       "384                      Fintech   \n",
       "504  Mobile & telecommunications   \n",
       "519                      Fintech   \n",
       "648                      Fintech   \n",
       "683                        Other   \n",
       "\n",
       "                                      Select Investors  unicorn_age  \n",
       "287  Toyota Motor Corporation, Mizuho Financial Gro...            3  \n",
       "384  BEENEXT, World Innovation Lab, Light Street Ca...            0  \n",
       "504  Japan Post Capital, Globis Capital Partners, A...            1  \n",
       "519  ITOCHU Corporation, Arbor Ventures, Soros Fund...            0  \n",
       "648        JAFCO Co, Bitmain Technologies, IDG Capital            2  \n",
       "683  Sozo Ventures, Caffeinated Capital, Sequoia Ca...            0  "
      ]
     },
     "execution_count": 27,
     "metadata": {},
     "output_type": "execute_result"
    }
   ],
   "source": [
    "df[df.Country == 'Japan']"
   ]
  },
  {
   "cell_type": "markdown",
   "id": "b2c7ec17",
   "metadata": {},
   "source": [
    "### 3. by city"
   ]
  },
  {
   "cell_type": "code",
   "execution_count": 28,
   "id": "302fc6b4",
   "metadata": {},
   "outputs": [],
   "source": [
    "cities = df.City.value_counts()\n",
    "df_cities = pd.DataFrame(cities)"
   ]
  },
  {
   "cell_type": "code",
   "execution_count": 29,
   "id": "7688ea0a",
   "metadata": {},
   "outputs": [
    {
     "data": {
      "text/html": [
       "<div>\n",
       "<style scoped>\n",
       "    .dataframe tbody tr th:only-of-type {\n",
       "        vertical-align: middle;\n",
       "    }\n",
       "\n",
       "    .dataframe tbody tr th {\n",
       "        vertical-align: top;\n",
       "    }\n",
       "\n",
       "    .dataframe thead th {\n",
       "        text-align: right;\n",
       "    }\n",
       "</style>\n",
       "<table border=\"1\" class=\"dataframe\">\n",
       "  <thead>\n",
       "    <tr style=\"text-align: right;\">\n",
       "      <th></th>\n",
       "      <th>City</th>\n",
       "    </tr>\n",
       "  </thead>\n",
       "  <tbody>\n",
       "    <tr>\n",
       "      <th>San Francisco</th>\n",
       "      <td>113</td>\n",
       "    </tr>\n",
       "    <tr>\n",
       "      <th>Beijing</th>\n",
       "      <td>61</td>\n",
       "    </tr>\n",
       "    <tr>\n",
       "      <th>New York</th>\n",
       "      <td>57</td>\n",
       "    </tr>\n",
       "    <tr>\n",
       "      <th>Shanghai</th>\n",
       "      <td>39</td>\n",
       "    </tr>\n",
       "    <tr>\n",
       "      <th>London</th>\n",
       "      <td>22</td>\n",
       "    </tr>\n",
       "  </tbody>\n",
       "</table>\n",
       "</div>"
      ],
      "text/plain": [
       "               City\n",
       "San Francisco   113\n",
       "Beijing          61\n",
       "New York         57\n",
       "Shanghai         39\n",
       "London           22"
      ]
     },
     "execution_count": 29,
     "metadata": {},
     "output_type": "execute_result"
    }
   ],
   "source": [
    "df_cities.head()"
   ]
  },
  {
   "cell_type": "markdown",
   "id": "14dc5935",
   "metadata": {},
   "source": [
    "#### 3-1. How many cities have Unicorn?"
   ]
  },
  {
   "cell_type": "code",
   "execution_count": 30,
   "id": "4f01bbcb",
   "metadata": {},
   "outputs": [
    {
     "data": {
      "text/plain": [
       "209"
      ]
     },
     "execution_count": 30,
     "metadata": {},
     "output_type": "execute_result"
    }
   ],
   "source": [
    "len(df_cities)"
   ]
  },
  {
   "cell_type": "markdown",
   "id": "97167546",
   "metadata": {},
   "source": [
    "#### 3-2. Cities that have more than 10 Unicorns."
   ]
  },
  {
   "cell_type": "code",
   "execution_count": 31,
   "id": "cfa54dd3",
   "metadata": {},
   "outputs": [
    {
     "data": {
      "text/html": [
       "<div>\n",
       "<style scoped>\n",
       "    .dataframe tbody tr th:only-of-type {\n",
       "        vertical-align: middle;\n",
       "    }\n",
       "\n",
       "    .dataframe tbody tr th {\n",
       "        vertical-align: top;\n",
       "    }\n",
       "\n",
       "    .dataframe thead th {\n",
       "        text-align: right;\n",
       "    }\n",
       "</style>\n",
       "<table border=\"1\" class=\"dataframe\">\n",
       "  <thead>\n",
       "    <tr style=\"text-align: right;\">\n",
       "      <th></th>\n",
       "      <th>City</th>\n",
       "    </tr>\n",
       "  </thead>\n",
       "  <tbody>\n",
       "    <tr>\n",
       "      <th>San Francisco</th>\n",
       "      <td>113</td>\n",
       "    </tr>\n",
       "    <tr>\n",
       "      <th>Beijing</th>\n",
       "      <td>61</td>\n",
       "    </tr>\n",
       "    <tr>\n",
       "      <th>New York</th>\n",
       "      <td>57</td>\n",
       "    </tr>\n",
       "    <tr>\n",
       "      <th>Shanghai</th>\n",
       "      <td>39</td>\n",
       "    </tr>\n",
       "    <tr>\n",
       "      <th>London</th>\n",
       "      <td>22</td>\n",
       "    </tr>\n",
       "    <tr>\n",
       "      <th>Shenzhen</th>\n",
       "      <td>17</td>\n",
       "    </tr>\n",
       "    <tr>\n",
       "      <th>Bengaluru</th>\n",
       "      <td>15</td>\n",
       "    </tr>\n",
       "    <tr>\n",
       "      <th>Chicago</th>\n",
       "      <td>15</td>\n",
       "    </tr>\n",
       "    <tr>\n",
       "      <th>Paris</th>\n",
       "      <td>14</td>\n",
       "    </tr>\n",
       "    <tr>\n",
       "      <th>Boston</th>\n",
       "      <td>13</td>\n",
       "    </tr>\n",
       "    <tr>\n",
       "      <th>Hangzhou</th>\n",
       "      <td>13</td>\n",
       "    </tr>\n",
       "    <tr>\n",
       "      <th>Mountain View</th>\n",
       "      <td>12</td>\n",
       "    </tr>\n",
       "    <tr>\n",
       "      <th>Berlin</th>\n",
       "      <td>11</td>\n",
       "    </tr>\n",
       "    <tr>\n",
       "      <th>Tel Aviv</th>\n",
       "      <td>11</td>\n",
       "    </tr>\n",
       "  </tbody>\n",
       "</table>\n",
       "</div>"
      ],
      "text/plain": [
       "               City\n",
       "San Francisco   113\n",
       "Beijing          61\n",
       "New York         57\n",
       "Shanghai         39\n",
       "London           22\n",
       "Shenzhen         17\n",
       "Bengaluru        15\n",
       "Chicago          15\n",
       "Paris            14\n",
       "Boston           13\n",
       "Hangzhou         13\n",
       "Mountain View    12\n",
       "Berlin           11\n",
       "Tel Aviv         11"
      ]
     },
     "execution_count": 31,
     "metadata": {},
     "output_type": "execute_result"
    }
   ],
   "source": [
    "# df_cities.City.nlargest(25)\n",
    "df_cities[df_cities.City > 10]"
   ]
  },
  {
   "cell_type": "code",
   "execution_count": 32,
   "id": "b90a3d3e",
   "metadata": {},
   "outputs": [
    {
     "data": {
      "text/plain": [
       "14"
      ]
     },
     "execution_count": 32,
     "metadata": {},
     "output_type": "execute_result"
    }
   ],
   "source": [
    "len(df_cities[df_cities.City > 10])"
   ]
  },
  {
   "cell_type": "markdown",
   "id": "981f1631",
   "metadata": {},
   "source": [
    "###  4. How many Unicorns have SB invested (as a part of lead investor) , according to this dataset* Be careful."
   ]
  },
  {
   "cell_type": "code",
   "execution_count": 33,
   "id": "c6423a5e",
   "metadata": {},
   "outputs": [
    {
     "data": {
      "text/plain": [
       "26"
      ]
     },
     "execution_count": 33,
     "metadata": {},
     "output_type": "execute_result"
    }
   ],
   "source": [
    "len(df[df['Select Investors'].str.contains('SoftBank') == True])"
   ]
  },
  {
   "cell_type": "markdown",
   "id": "ed8e7449",
   "metadata": {},
   "source": [
    "#### 4-1. Unicorn List that Softbank invested"
   ]
  },
  {
   "cell_type": "code",
   "execution_count": 34,
   "id": "d9ecd17d",
   "metadata": {},
   "outputs": [
    {
     "data": {
      "text/html": [
       "<div>\n",
       "<style scoped>\n",
       "    .dataframe tbody tr th:only-of-type {\n",
       "        vertical-align: middle;\n",
       "    }\n",
       "\n",
       "    .dataframe tbody tr th {\n",
       "        vertical-align: top;\n",
       "    }\n",
       "\n",
       "    .dataframe thead th {\n",
       "        text-align: right;\n",
       "    }\n",
       "</style>\n",
       "<table border=\"1\" class=\"dataframe\">\n",
       "  <thead>\n",
       "    <tr style=\"text-align: right;\">\n",
       "      <th></th>\n",
       "      <th>Company</th>\n",
       "      <th>Valuation ($B)</th>\n",
       "      <th>Date Joined</th>\n",
       "      <th>Country</th>\n",
       "      <th>City</th>\n",
       "      <th>Industry</th>\n",
       "      <th>Select Investors</th>\n",
       "      <th>unicorn_age</th>\n",
       "    </tr>\n",
       "  </thead>\n",
       "  <tbody>\n",
       "    <tr>\n",
       "      <th>21</th>\n",
       "      <td>Fanatics</td>\n",
       "      <td>12.80</td>\n",
       "      <td>2012-06-06</td>\n",
       "      <td>United States</td>\n",
       "      <td>Jacksonville</td>\n",
       "      <td>E-commerce &amp; direct-to-consumer</td>\n",
       "      <td>SoftBank Group, Andreessen Horowitz, Temasek H...</td>\n",
       "      <td>9</td>\n",
       "    </tr>\n",
       "    <tr>\n",
       "      <th>38</th>\n",
       "      <td>Roivant Sciences</td>\n",
       "      <td>9.09</td>\n",
       "      <td>2017-08-09</td>\n",
       "      <td>United States</td>\n",
       "      <td>New York</td>\n",
       "      <td>Health</td>\n",
       "      <td>SoftBankGroup, Founders Fund</td>\n",
       "      <td>3</td>\n",
       "    </tr>\n",
       "    <tr>\n",
       "      <th>42</th>\n",
       "      <td>OYO Rooms</td>\n",
       "      <td>9.00</td>\n",
       "      <td>2018-09-25</td>\n",
       "      <td>India</td>\n",
       "      <td>Gurugram</td>\n",
       "      <td>Travel</td>\n",
       "      <td>SoftBank Group, Sequoia Capital India,Lightspe...</td>\n",
       "      <td>2</td>\n",
       "    </tr>\n",
       "    <tr>\n",
       "      <th>60</th>\n",
       "      <td>National Stock Exchange of India</td>\n",
       "      <td>6.50</td>\n",
       "      <td>2020-07-01</td>\n",
       "      <td>India</td>\n",
       "      <td>Mumbai</td>\n",
       "      <td>Fintech</td>\n",
       "      <td>TA Associates, SoftBank Group, GS Growth</td>\n",
       "      <td>1</td>\n",
       "    </tr>\n",
       "    <tr>\n",
       "      <th>62</th>\n",
       "      <td>Ola Cabs</td>\n",
       "      <td>6.30</td>\n",
       "      <td>2014-10-27</td>\n",
       "      <td>India</td>\n",
       "      <td>Bengaluru</td>\n",
       "      <td>Auto &amp; transportation</td>\n",
       "      <td>Accel Partners, SoftBank Group, Sequoia Capital</td>\n",
       "      <td>6</td>\n",
       "    </tr>\n",
       "    <tr>\n",
       "      <th>90</th>\n",
       "      <td>Nuro</td>\n",
       "      <td>5.00</td>\n",
       "      <td>2019-02-11</td>\n",
       "      <td>United States</td>\n",
       "      <td>Mountain View</td>\n",
       "      <td>Auto &amp; transportation</td>\n",
       "      <td>SoftBank Group, Greylock Partners, Gaorong Cap...</td>\n",
       "      <td>2</td>\n",
       "    </tr>\n",
       "    <tr>\n",
       "      <th>120</th>\n",
       "      <td>Greensill</td>\n",
       "      <td>4.00</td>\n",
       "      <td>2018-07-16</td>\n",
       "      <td>United Kingdom</td>\n",
       "      <td>London</td>\n",
       "      <td>Fintech</td>\n",
       "      <td>SoftBank Group, General Atlantic</td>\n",
       "      <td>3</td>\n",
       "    </tr>\n",
       "    <tr>\n",
       "      <th>123</th>\n",
       "      <td>QuintoAndar</td>\n",
       "      <td>4.00</td>\n",
       "      <td>2019-09-09</td>\n",
       "      <td>Brazil</td>\n",
       "      <td>Campinas</td>\n",
       "      <td>E-commerce &amp; direct-to-consumer</td>\n",
       "      <td>Kaszek Ventures, General Atlantic, SoftBank Group</td>\n",
       "      <td>1</td>\n",
       "    </tr>\n",
       "    <tr>\n",
       "      <th>126</th>\n",
       "      <td>Kavak</td>\n",
       "      <td>4.00</td>\n",
       "      <td>2020-10-01</td>\n",
       "      <td>Mexico</td>\n",
       "      <td>Lerma de Villada</td>\n",
       "      <td>E-commerce &amp; direct-to-consumer</td>\n",
       "      <td>DST Global, SoftBank Group, Mountain Nazca</td>\n",
       "      <td>0</td>\n",
       "    </tr>\n",
       "    <tr>\n",
       "      <th>142</th>\n",
       "      <td>Cohesity</td>\n",
       "      <td>3.70</td>\n",
       "      <td>2018-06-11</td>\n",
       "      <td>United States</td>\n",
       "      <td>San Jose</td>\n",
       "      <td>Data management &amp; analytics</td>\n",
       "      <td>SoftBank Group, Sequoia Capital, Wing Venture ...</td>\n",
       "      <td>3</td>\n",
       "    </tr>\n",
       "    <tr>\n",
       "      <th>184</th>\n",
       "      <td>Delhivery</td>\n",
       "      <td>3.00</td>\n",
       "      <td>2019-02-27</td>\n",
       "      <td>India</td>\n",
       "      <td>Gurgaon</td>\n",
       "      <td>Supply chain, logistics, &amp; delivery</td>\n",
       "      <td>Times Internet, Nexus Venture Partners, SoftBa...</td>\n",
       "      <td>2</td>\n",
       "    </tr>\n",
       "    <tr>\n",
       "      <th>261</th>\n",
       "      <td>Gympass</td>\n",
       "      <td>2.20</td>\n",
       "      <td>2019-06-12</td>\n",
       "      <td>United States</td>\n",
       "      <td>New York</td>\n",
       "      <td>Internet software &amp; services</td>\n",
       "      <td>General Atlantic, SoftBank Group, Atomico</td>\n",
       "      <td>2</td>\n",
       "    </tr>\n",
       "    <tr>\n",
       "      <th>268</th>\n",
       "      <td>FirstCry</td>\n",
       "      <td>2.10</td>\n",
       "      <td>2020-02-07</td>\n",
       "      <td>India</td>\n",
       "      <td>Pune</td>\n",
       "      <td>E-commerce &amp; direct-to-consumer</td>\n",
       "      <td>SoftBank Group, SAIF Partners India, Valiant C...</td>\n",
       "      <td>1</td>\n",
       "    </tr>\n",
       "    <tr>\n",
       "      <th>285</th>\n",
       "      <td>Improbable</td>\n",
       "      <td>2.00</td>\n",
       "      <td>2017-05-11</td>\n",
       "      <td>United Kingdom</td>\n",
       "      <td>London</td>\n",
       "      <td>Other</td>\n",
       "      <td>Andreessen Horowitz, SoftBank Group, Temasek H...</td>\n",
       "      <td>4</td>\n",
       "    </tr>\n",
       "    <tr>\n",
       "      <th>319</th>\n",
       "      <td>Clip</td>\n",
       "      <td>2.00</td>\n",
       "      <td>2021-06-10</td>\n",
       "      <td>Mexico</td>\n",
       "      <td>Mexico City</td>\n",
       "      <td>Fintech</td>\n",
       "      <td>Alta Ventures Mexico, General Atlantic, SoftBa...</td>\n",
       "      <td>0</td>\n",
       "    </tr>\n",
       "    <tr>\n",
       "      <th>320</th>\n",
       "      <td>Loggi</td>\n",
       "      <td>2.00</td>\n",
       "      <td>2019-06-05</td>\n",
       "      <td>Brazil</td>\n",
       "      <td>Sao Paulo</td>\n",
       "      <td>Supply chain, logistics, &amp; delivery</td>\n",
       "      <td>Qualcomm Ventures, SoftBank Group. Monashees+</td>\n",
       "      <td>2</td>\n",
       "    </tr>\n",
       "    <tr>\n",
       "      <th>396</th>\n",
       "      <td>Cybereason</td>\n",
       "      <td>1.50</td>\n",
       "      <td>2017-06-21</td>\n",
       "      <td>United States</td>\n",
       "      <td>Boston</td>\n",
       "      <td>Cybersecurity</td>\n",
       "      <td>SoftBank Group, CRV, Spark Capital</td>\n",
       "      <td>4</td>\n",
       "    </tr>\n",
       "    <tr>\n",
       "      <th>401</th>\n",
       "      <td>Cambridge Mobile Telematics</td>\n",
       "      <td>1.50</td>\n",
       "      <td>2018-12-19</td>\n",
       "      <td>United States</td>\n",
       "      <td>Cambridge</td>\n",
       "      <td>Mobile &amp; telecommunications</td>\n",
       "      <td>SoftBank Group</td>\n",
       "      <td>2</td>\n",
       "    </tr>\n",
       "    <tr>\n",
       "      <th>433</th>\n",
       "      <td>Zeta</td>\n",
       "      <td>1.45</td>\n",
       "      <td>2021-05-24</td>\n",
       "      <td>United States</td>\n",
       "      <td>San Francisco</td>\n",
       "      <td>Fintech</td>\n",
       "      <td>Sodexo Ventures, SoftBank Group</td>\n",
       "      <td>0</td>\n",
       "    </tr>\n",
       "    <tr>\n",
       "      <th>502</th>\n",
       "      <td>Fair</td>\n",
       "      <td>1.20</td>\n",
       "      <td>2018-12-20</td>\n",
       "      <td>United States</td>\n",
       "      <td>Santa Monica</td>\n",
       "      <td>Auto &amp; transportation</td>\n",
       "      <td>CreditEase Fintech Investment Fund, BMW i Vent...</td>\n",
       "      <td>2</td>\n",
       "    </tr>\n",
       "    <tr>\n",
       "      <th>587</th>\n",
       "      <td>Snapdeal</td>\n",
       "      <td>1.00</td>\n",
       "      <td>2014-05-21</td>\n",
       "      <td>India</td>\n",
       "      <td>New Delhi</td>\n",
       "      <td>E-commerce &amp; direct-to-consumer</td>\n",
       "      <td>SoftBankGroup, Blackrock, Alibaba Group</td>\n",
       "      <td>7</td>\n",
       "    </tr>\n",
       "    <tr>\n",
       "      <th>644</th>\n",
       "      <td>Globality</td>\n",
       "      <td>1.00</td>\n",
       "      <td>2019-01-22</td>\n",
       "      <td>United States</td>\n",
       "      <td>Menlo Park</td>\n",
       "      <td>Artificial intelligence</td>\n",
       "      <td>SoftBank Group</td>\n",
       "      <td>2</td>\n",
       "    </tr>\n",
       "    <tr>\n",
       "      <th>656</th>\n",
       "      <td>Ola Electric Mobility</td>\n",
       "      <td>1.00</td>\n",
       "      <td>2019-07-02</td>\n",
       "      <td>India</td>\n",
       "      <td>Bengaluru</td>\n",
       "      <td>Auto &amp; transportation</td>\n",
       "      <td>SoftBank Group, Tiger Global Management, Matri...</td>\n",
       "      <td>2</td>\n",
       "    </tr>\n",
       "    <tr>\n",
       "      <th>698</th>\n",
       "      <td>MadeiraMadeira</td>\n",
       "      <td>1.00</td>\n",
       "      <td>2021-01-07</td>\n",
       "      <td>Brazil</td>\n",
       "      <td>Parana</td>\n",
       "      <td>E-commerce &amp; direct-to-consumer</td>\n",
       "      <td>Flybridge Capital Partners, SoftBank Group, Mo...</td>\n",
       "      <td>0</td>\n",
       "    </tr>\n",
       "    <tr>\n",
       "      <th>766</th>\n",
       "      <td>Grofers</td>\n",
       "      <td>1.00</td>\n",
       "      <td>2021-06-30</td>\n",
       "      <td>India</td>\n",
       "      <td>Gurgaon</td>\n",
       "      <td>Supply chain, logistics, &amp; delivery</td>\n",
       "      <td>Tiger Global Management, Sequoia Capital India...</td>\n",
       "      <td>0</td>\n",
       "    </tr>\n",
       "    <tr>\n",
       "      <th>772</th>\n",
       "      <td>Pantheon Systems</td>\n",
       "      <td>1.00</td>\n",
       "      <td>2021-07-13</td>\n",
       "      <td>United States</td>\n",
       "      <td>San Francisco</td>\n",
       "      <td>Internet software &amp; services</td>\n",
       "      <td>Foundry Group, Scale Venture Partners, SoftBan...</td>\n",
       "      <td>0</td>\n",
       "    </tr>\n",
       "  </tbody>\n",
       "</table>\n",
       "</div>"
      ],
      "text/plain": [
       "                              Company  Valuation ($B) Date Joined  \\\n",
       "21                           Fanatics           12.80  2012-06-06   \n",
       "38                   Roivant Sciences            9.09  2017-08-09   \n",
       "42                          OYO Rooms            9.00  2018-09-25   \n",
       "60   National Stock Exchange of India            6.50  2020-07-01   \n",
       "62                           Ola Cabs            6.30  2014-10-27   \n",
       "90                               Nuro            5.00  2019-02-11   \n",
       "120                         Greensill            4.00  2018-07-16   \n",
       "123                       QuintoAndar            4.00  2019-09-09   \n",
       "126                             Kavak            4.00  2020-10-01   \n",
       "142                          Cohesity            3.70  2018-06-11   \n",
       "184                         Delhivery            3.00  2019-02-27   \n",
       "261                           Gympass            2.20  2019-06-12   \n",
       "268                          FirstCry            2.10  2020-02-07   \n",
       "285                        Improbable            2.00  2017-05-11   \n",
       "319                              Clip            2.00  2021-06-10   \n",
       "320                             Loggi            2.00  2019-06-05   \n",
       "396                        Cybereason            1.50  2017-06-21   \n",
       "401       Cambridge Mobile Telematics            1.50  2018-12-19   \n",
       "433                              Zeta            1.45  2021-05-24   \n",
       "502                              Fair            1.20  2018-12-20   \n",
       "587                          Snapdeal            1.00  2014-05-21   \n",
       "644                         Globality            1.00  2019-01-22   \n",
       "656             Ola Electric Mobility            1.00  2019-07-02   \n",
       "698                    MadeiraMadeira            1.00  2021-01-07   \n",
       "766                           Grofers            1.00  2021-06-30   \n",
       "772                  Pantheon Systems            1.00  2021-07-13   \n",
       "\n",
       "            Country              City                             Industry  \\\n",
       "21    United States      Jacksonville      E-commerce & direct-to-consumer   \n",
       "38    United States          New York                               Health   \n",
       "42            India          Gurugram                               Travel   \n",
       "60            India            Mumbai                              Fintech   \n",
       "62            India         Bengaluru                Auto & transportation   \n",
       "90    United States     Mountain View                Auto & transportation   \n",
       "120  United Kingdom            London                              Fintech   \n",
       "123          Brazil          Campinas      E-commerce & direct-to-consumer   \n",
       "126          Mexico  Lerma de Villada      E-commerce & direct-to-consumer   \n",
       "142   United States          San Jose          Data management & analytics   \n",
       "184           India           Gurgaon  Supply chain, logistics, & delivery   \n",
       "261   United States          New York         Internet software & services   \n",
       "268           India              Pune      E-commerce & direct-to-consumer   \n",
       "285  United Kingdom            London                                Other   \n",
       "319          Mexico       Mexico City                              Fintech   \n",
       "320          Brazil         Sao Paulo  Supply chain, logistics, & delivery   \n",
       "396   United States            Boston                        Cybersecurity   \n",
       "401   United States         Cambridge          Mobile & telecommunications   \n",
       "433   United States     San Francisco                              Fintech   \n",
       "502   United States      Santa Monica                Auto & transportation   \n",
       "587           India         New Delhi      E-commerce & direct-to-consumer   \n",
       "644   United States        Menlo Park              Artificial intelligence   \n",
       "656           India         Bengaluru                Auto & transportation   \n",
       "698          Brazil            Parana      E-commerce & direct-to-consumer   \n",
       "766           India           Gurgaon  Supply chain, logistics, & delivery   \n",
       "772   United States     San Francisco         Internet software & services   \n",
       "\n",
       "                                      Select Investors  unicorn_age  \n",
       "21   SoftBank Group, Andreessen Horowitz, Temasek H...            9  \n",
       "38                        SoftBankGroup, Founders Fund            3  \n",
       "42   SoftBank Group, Sequoia Capital India,Lightspe...            2  \n",
       "60            TA Associates, SoftBank Group, GS Growth            1  \n",
       "62     Accel Partners, SoftBank Group, Sequoia Capital            6  \n",
       "90   SoftBank Group, Greylock Partners, Gaorong Cap...            2  \n",
       "120                   SoftBank Group, General Atlantic            3  \n",
       "123  Kaszek Ventures, General Atlantic, SoftBank Group            1  \n",
       "126         DST Global, SoftBank Group, Mountain Nazca            0  \n",
       "142  SoftBank Group, Sequoia Capital, Wing Venture ...            3  \n",
       "184  Times Internet, Nexus Venture Partners, SoftBa...            2  \n",
       "261          General Atlantic, SoftBank Group, Atomico            2  \n",
       "268  SoftBank Group, SAIF Partners India, Valiant C...            1  \n",
       "285  Andreessen Horowitz, SoftBank Group, Temasek H...            4  \n",
       "319  Alta Ventures Mexico, General Atlantic, SoftBa...            0  \n",
       "320      Qualcomm Ventures, SoftBank Group. Monashees+            2  \n",
       "396                 SoftBank Group, CRV, Spark Capital            4  \n",
       "401                                     SoftBank Group            2  \n",
       "433                    Sodexo Ventures, SoftBank Group            0  \n",
       "502  CreditEase Fintech Investment Fund, BMW i Vent...            2  \n",
       "587            SoftBankGroup, Blackrock, Alibaba Group            7  \n",
       "644                                     SoftBank Group            2  \n",
       "656  SoftBank Group, Tiger Global Management, Matri...            2  \n",
       "698  Flybridge Capital Partners, SoftBank Group, Mo...            0  \n",
       "766  Tiger Global Management, Sequoia Capital India...            0  \n",
       "772  Foundry Group, Scale Venture Partners, SoftBan...            0  "
      ]
     },
     "execution_count": 34,
     "metadata": {},
     "output_type": "execute_result"
    }
   ],
   "source": [
    "df[df['Select Investors'].str.contains('SoftBank') == True]"
   ]
  },
  {
   "cell_type": "markdown",
   "id": "5cbc6395",
   "metadata": {},
   "source": [
    "### 5. by indstry"
   ]
  },
  {
   "cell_type": "markdown",
   "id": "a425d93f",
   "metadata": {},
   "source": [
    "##### ※ If there's no typo or lower/upper case prorblem. You can use  industries = df['Industry'].value_counts( ). At this case, we can say 'education' is used for almost same meaning as 'edtech' because Duolingo is known as an Edtech company."
   ]
  },
  {
   "cell_type": "code",
   "execution_count": 35,
   "id": "47ffe2e6",
   "metadata": {},
   "outputs": [],
   "source": [
    "df['Industry_f'] = df['Industry'].str.replace('<', '').str.lower().replace('education','edtech')"
   ]
  },
  {
   "cell_type": "code",
   "execution_count": 36,
   "id": "48088259",
   "metadata": {},
   "outputs": [],
   "source": [
    "industries = df['Industry_f'].value_counts()\n",
    "df_industries = pd.DataFrame(industries)"
   ]
  },
  {
   "cell_type": "code",
   "execution_count": 37,
   "id": "fb977ce8",
   "metadata": {
    "scrolled": true
   },
   "outputs": [
    {
     "data": {
      "text/html": [
       "<div>\n",
       "<style scoped>\n",
       "    .dataframe tbody tr th:only-of-type {\n",
       "        vertical-align: middle;\n",
       "    }\n",
       "\n",
       "    .dataframe tbody tr th {\n",
       "        vertical-align: top;\n",
       "    }\n",
       "\n",
       "    .dataframe thead th {\n",
       "        text-align: right;\n",
       "    }\n",
       "</style>\n",
       "<table border=\"1\" class=\"dataframe\">\n",
       "  <thead>\n",
       "    <tr style=\"text-align: right;\">\n",
       "      <th></th>\n",
       "      <th>Industry_f</th>\n",
       "    </tr>\n",
       "  </thead>\n",
       "  <tbody>\n",
       "    <tr>\n",
       "      <th>fintech</th>\n",
       "      <td>144</td>\n",
       "    </tr>\n",
       "    <tr>\n",
       "      <th>internet software &amp; services</th>\n",
       "      <td>126</td>\n",
       "    </tr>\n",
       "    <tr>\n",
       "      <th>e-commerce &amp; direct-to-consumer</th>\n",
       "      <td>84</td>\n",
       "    </tr>\n",
       "    <tr>\n",
       "      <th>artificial intelligence</th>\n",
       "      <td>64</td>\n",
       "    </tr>\n",
       "    <tr>\n",
       "      <th>health</th>\n",
       "      <td>56</td>\n",
       "    </tr>\n",
       "  </tbody>\n",
       "</table>\n",
       "</div>"
      ],
      "text/plain": [
       "                                 Industry_f\n",
       "fintech                                 144\n",
       "internet software & services            126\n",
       "e-commerce & direct-to-consumer          84\n",
       "artificial intelligence                  64\n",
       "health                                   56"
      ]
     },
     "execution_count": 37,
     "metadata": {},
     "output_type": "execute_result"
    }
   ],
   "source": [
    "df_industries.head()"
   ]
  },
  {
   "cell_type": "code",
   "execution_count": 38,
   "id": "6e693d04",
   "metadata": {},
   "outputs": [
    {
     "data": {
      "text/plain": [
       "<AxesSubplot:>"
      ]
     },
     "execution_count": 38,
     "metadata": {},
     "output_type": "execute_result"
    },
    {
     "data": {
      "image/png": "[encoded data removed]",
      "text/plain": [
       "<Figure size 432x288 with 1 Axes>"
      ]
     },
     "metadata": {
      "needs_background": "light"
     },
     "output_type": "display_data"
    }
   ],
   "source": [
    "df_industries.plot(kind = 'barh')"
   ]
  },
  {
   "cell_type": "markdown",
   "id": "7e77f522",
   "metadata": {},
   "source": [
    "### 6. When you pick .csv files downloaded before, put the csv file in the same folder as the notebook."
   ]
  },
  {
   "cell_type": "code",
   "execution_count": 39,
   "id": "f18c8ae0",
   "metadata": {},
   "outputs": [],
   "source": [
    "df2 = pd.read_csv('UnicornList-july2020.csv')\n",
    "df2['Valuation ($B)'] = df2['Valuation ($B)'].str.replace('$', '', regex=True).astype(float)"
   ]
  },
  {
   "cell_type": "code",
   "execution_count": 40,
   "id": "5807afb2",
   "metadata": {},
   "outputs": [
    {
     "data": {
      "text/html": [
       "<div>\n",
       "<style scoped>\n",
       "    .dataframe tbody tr th:only-of-type {\n",
       "        vertical-align: middle;\n",
       "    }\n",
       "\n",
       "    .dataframe tbody tr th {\n",
       "        vertical-align: top;\n",
       "    }\n",
       "\n",
       "    .dataframe thead th {\n",
       "        text-align: right;\n",
       "    }\n",
       "</style>\n",
       "<table border=\"1\" class=\"dataframe\">\n",
       "  <thead>\n",
       "    <tr style=\"text-align: right;\">\n",
       "      <th></th>\n",
       "      <th>Company</th>\n",
       "      <th>Valuation ($B)</th>\n",
       "      <th>Date Joined</th>\n",
       "      <th>Country</th>\n",
       "      <th>Industry</th>\n",
       "      <th>Select Investors</th>\n",
       "    </tr>\n",
       "  </thead>\n",
       "  <tbody>\n",
       "    <tr>\n",
       "      <th>0</th>\n",
       "      <td>FiveTran</td>\n",
       "      <td>1.2</td>\n",
       "      <td>6/30/2020</td>\n",
       "      <td>United States</td>\n",
       "      <td>Data management &amp; analytics</td>\n",
       "      <td>Matrix Partners, Andreessen Horowitz, General ...</td>\n",
       "    </tr>\n",
       "    <tr>\n",
       "      <th>1</th>\n",
       "      <td>KKW Beauty</td>\n",
       "      <td>1.0</td>\n",
       "      <td>6/29/2020</td>\n",
       "      <td>United States</td>\n",
       "      <td>E-commerce &amp; direct-to-consumer</td>\n",
       "      <td>Coty</td>\n",
       "    </tr>\n",
       "    <tr>\n",
       "      <th>2</th>\n",
       "      <td>Cazoo</td>\n",
       "      <td>1.0</td>\n",
       "      <td>6/23/2020</td>\n",
       "      <td>United Kingdom</td>\n",
       "      <td>E-commerce &amp; direct-to-consumer</td>\n",
       "      <td>dmg ventures, General Catalyst, Octopus Ventures</td>\n",
       "    </tr>\n",
       "    <tr>\n",
       "      <th>3</th>\n",
       "      <td>Workhuman</td>\n",
       "      <td>1.2</td>\n",
       "      <td>6/23/2020</td>\n",
       "      <td>Ireland</td>\n",
       "      <td>Internet software &amp; services</td>\n",
       "      <td>ICG</td>\n",
       "    </tr>\n",
       "    <tr>\n",
       "      <th>4</th>\n",
       "      <td>Upgrade</td>\n",
       "      <td>1.0</td>\n",
       "      <td>6/17/2020</td>\n",
       "      <td>United States</td>\n",
       "      <td>Fintech</td>\n",
       "      <td>Union Square Ventures, Ribbit Capital, VY Capital</td>\n",
       "    </tr>\n",
       "  </tbody>\n",
       "</table>\n",
       "</div>"
      ],
      "text/plain": [
       "      Company  Valuation ($B) Date Joined         Country  \\\n",
       "0    FiveTran             1.2   6/30/2020   United States   \n",
       "1  KKW Beauty             1.0   6/29/2020   United States   \n",
       "2       Cazoo             1.0   6/23/2020  United Kingdom   \n",
       "3   Workhuman             1.2   6/23/2020         Ireland   \n",
       "4     Upgrade             1.0   6/17/2020   United States   \n",
       "\n",
       "                          Industry  \\\n",
       "0      Data management & analytics   \n",
       "1  E-commerce & direct-to-consumer   \n",
       "2  E-commerce & direct-to-consumer   \n",
       "3     Internet software & services   \n",
       "4                          Fintech   \n",
       "\n",
       "                                    Select Investors  \n",
       "0  Matrix Partners, Andreessen Horowitz, General ...  \n",
       "1                                               Coty  \n",
       "2   dmg ventures, General Catalyst, Octopus Ventures  \n",
       "3                                                ICG  \n",
       "4  Union Square Ventures, Ribbit Capital, VY Capital  "
      ]
     },
     "execution_count": 40,
     "metadata": {},
     "output_type": "execute_result"
    }
   ],
   "source": [
    "df2.head()"
   ]
  },
  {
   "cell_type": "markdown",
   "id": "66de0ffb",
   "metadata": {},
   "source": [
    "*1. number of unicorn*"
   ]
  },
  {
   "cell_type": "code",
   "execution_count": 41,
   "id": "c4bff41f",
   "metadata": {},
   "outputs": [
    {
     "data": {
      "text/plain": [
       "475"
      ]
     },
     "execution_count": 41,
     "metadata": {},
     "output_type": "execute_result"
    }
   ],
   "source": [
    "len(df2)"
   ]
  },
  {
   "cell_type": "markdown",
   "id": "8999c5ee",
   "metadata": {},
   "source": [
    "*2. country*"
   ]
  },
  {
   "cell_type": "code",
   "execution_count": 42,
   "id": "827849ee",
   "metadata": {},
   "outputs": [],
   "source": [
    "countries2 = df2.Country.value_counts()\n",
    "df2_countries = pd.DataFrame(countries2)"
   ]
  },
  {
   "cell_type": "code",
   "execution_count": 43,
   "id": "bc75f519",
   "metadata": {},
   "outputs": [
    {
     "data": {
      "text/html": [
       "<div>\n",
       "<style scoped>\n",
       "    .dataframe tbody tr th:only-of-type {\n",
       "        vertical-align: middle;\n",
       "    }\n",
       "\n",
       "    .dataframe tbody tr th {\n",
       "        vertical-align: top;\n",
       "    }\n",
       "\n",
       "    .dataframe thead th {\n",
       "        text-align: right;\n",
       "    }\n",
       "</style>\n",
       "<table border=\"1\" class=\"dataframe\">\n",
       "  <thead>\n",
       "    <tr style=\"text-align: right;\">\n",
       "      <th></th>\n",
       "      <th>Country</th>\n",
       "    </tr>\n",
       "  </thead>\n",
       "  <tbody>\n",
       "    <tr>\n",
       "      <th>United States</th>\n",
       "      <td>225</td>\n",
       "    </tr>\n",
       "    <tr>\n",
       "      <th>China</th>\n",
       "      <td>122</td>\n",
       "    </tr>\n",
       "    <tr>\n",
       "      <th>United Kingdom</th>\n",
       "      <td>25</td>\n",
       "    </tr>\n",
       "    <tr>\n",
       "      <th>India</th>\n",
       "      <td>21</td>\n",
       "    </tr>\n",
       "    <tr>\n",
       "      <th>Germany</th>\n",
       "      <td>13</td>\n",
       "    </tr>\n",
       "  </tbody>\n",
       "</table>\n",
       "</div>"
      ],
      "text/plain": [
       "                Country\n",
       "United States       225\n",
       "China               122\n",
       "United Kingdom       25\n",
       "India                21\n",
       "Germany              13"
      ]
     },
     "execution_count": 43,
     "metadata": {},
     "output_type": "execute_result"
    }
   ],
   "source": [
    "df2_countries.head()"
   ]
  },
  {
   "cell_type": "markdown",
   "id": "272eac7c",
   "metadata": {},
   "source": [
    "*3. industry*"
   ]
  },
  {
   "cell_type": "code",
   "execution_count": 44,
   "id": "18ab056c",
   "metadata": {},
   "outputs": [],
   "source": [
    "df2['Industry_f'] = df2['Industry'].str.replace('<', '').str.lower().replace('education','edtech')"
   ]
  },
  {
   "cell_type": "code",
   "execution_count": 45,
   "id": "fc7f0f05",
   "metadata": {},
   "outputs": [],
   "source": [
    "industries2 = df2['Industry_f'].value_counts()\n",
    "df2_industries = pd.DataFrame(industries2)"
   ]
  },
  {
   "cell_type": "code",
   "execution_count": 46,
   "id": "47b5c498",
   "metadata": {},
   "outputs": [
    {
     "data": {
      "text/html": [
       "<div>\n",
       "<style scoped>\n",
       "    .dataframe tbody tr th:only-of-type {\n",
       "        vertical-align: middle;\n",
       "    }\n",
       "\n",
       "    .dataframe tbody tr th {\n",
       "        vertical-align: top;\n",
       "    }\n",
       "\n",
       "    .dataframe thead th {\n",
       "        text-align: right;\n",
       "    }\n",
       "</style>\n",
       "<table border=\"1\" class=\"dataframe\">\n",
       "  <thead>\n",
       "    <tr style=\"text-align: right;\">\n",
       "      <th></th>\n",
       "      <th>Industry_f</th>\n",
       "    </tr>\n",
       "  </thead>\n",
       "  <tbody>\n",
       "    <tr>\n",
       "      <th>fintech</th>\n",
       "      <td>61</td>\n",
       "    </tr>\n",
       "    <tr>\n",
       "      <th>internet software &amp; services</th>\n",
       "      <td>61</td>\n",
       "    </tr>\n",
       "    <tr>\n",
       "      <th>e-commerce &amp; direct-to-consumer</th>\n",
       "      <td>56</td>\n",
       "    </tr>\n",
       "    <tr>\n",
       "      <th>artificial intelligence</th>\n",
       "      <td>46</td>\n",
       "    </tr>\n",
       "    <tr>\n",
       "      <th>health</th>\n",
       "      <td>33</td>\n",
       "    </tr>\n",
       "    <tr>\n",
       "      <th>mobile &amp; telecommunications</th>\n",
       "      <td>30</td>\n",
       "    </tr>\n",
       "    <tr>\n",
       "      <th>other</th>\n",
       "      <td>30</td>\n",
       "    </tr>\n",
       "    <tr>\n",
       "      <th>auto &amp; transportation</th>\n",
       "      <td>29</td>\n",
       "    </tr>\n",
       "    <tr>\n",
       "      <th>supply chain, logistics, &amp; delivery</th>\n",
       "      <td>27</td>\n",
       "    </tr>\n",
       "    <tr>\n",
       "      <th>data management &amp; analytics</th>\n",
       "      <td>21</td>\n",
       "    </tr>\n",
       "    <tr>\n",
       "      <th>hardware</th>\n",
       "      <td>19</td>\n",
       "    </tr>\n",
       "    <tr>\n",
       "      <th>edtech</th>\n",
       "      <td>18</td>\n",
       "    </tr>\n",
       "    <tr>\n",
       "      <th>consumer &amp; retail</th>\n",
       "      <td>17</td>\n",
       "    </tr>\n",
       "    <tr>\n",
       "      <th>cybersecurity</th>\n",
       "      <td>14</td>\n",
       "    </tr>\n",
       "    <tr>\n",
       "      <th>travel</th>\n",
       "      <td>13</td>\n",
       "    </tr>\n",
       "  </tbody>\n",
       "</table>\n",
       "</div>"
      ],
      "text/plain": [
       "                                     Industry_f\n",
       "fintech                                      61\n",
       "internet software & services                 61\n",
       "e-commerce & direct-to-consumer              56\n",
       "artificial intelligence                      46\n",
       "health                                       33\n",
       "mobile & telecommunications                  30\n",
       "other                                        30\n",
       "auto & transportation                        29\n",
       "supply chain, logistics, & delivery          27\n",
       "data management & analytics                  21\n",
       "hardware                                     19\n",
       "edtech                                       18\n",
       "consumer & retail                            17\n",
       "cybersecurity                                14\n",
       "travel                                       13"
      ]
     },
     "execution_count": 46,
     "metadata": {},
     "output_type": "execute_result"
    }
   ],
   "source": [
    "df2_industries"
   ]
  },
  {
   "cell_type": "markdown",
   "id": "fc99e235",
   "metadata": {},
   "source": [
    "### 7. If you want, you can merge 2 dataset to compare"
   ]
  },
  {
   "cell_type": "markdown",
   "id": "a4577a16",
   "metadata": {},
   "source": [
    "*1. country*"
   ]
  },
  {
   "cell_type": "code",
   "execution_count": 47,
   "id": "cb033d1e",
   "metadata": {},
   "outputs": [],
   "source": [
    "df2_countries = df2_countries.rename(columns={'Country': 'Country2'})"
   ]
  },
  {
   "cell_type": "code",
   "execution_count": 48,
   "id": "c4add4d2",
   "metadata": {},
   "outputs": [],
   "source": [
    "df_countries_comp = pd.concat([df_countries, df2_countries], axis=1).fillna(0)"
   ]
  },
  {
   "cell_type": "code",
   "execution_count": 49,
   "id": "f0a0f845",
   "metadata": {},
   "outputs": [],
   "source": [
    "df_countries_comp = df_countries_comp.rename(columns={'Country': 'July2021', 'Country2':'July2020'})"
   ]
  },
  {
   "cell_type": "code",
   "execution_count": 50,
   "id": "2054f5fc",
   "metadata": {},
   "outputs": [],
   "source": [
    "df_countries_comp['gain/loss'] = df_countries_comp.July2021-df_countries_comp.July2020"
   ]
  },
  {
   "cell_type": "code",
   "execution_count": 51,
   "id": "19d5fa3f",
   "metadata": {},
   "outputs": [],
   "source": [
    "df_countries_comp = df_countries_comp.astype(int)"
   ]
  },
  {
   "cell_type": "code",
   "execution_count": 52,
   "id": "44a70af5",
   "metadata": {},
   "outputs": [
    {
     "data": {
      "text/html": [
       "<div>\n",
       "<style scoped>\n",
       "    .dataframe tbody tr th:only-of-type {\n",
       "        vertical-align: middle;\n",
       "    }\n",
       "\n",
       "    .dataframe tbody tr th {\n",
       "        vertical-align: top;\n",
       "    }\n",
       "\n",
       "    .dataframe thead th {\n",
       "        text-align: right;\n",
       "    }\n",
       "</style>\n",
       "<table border=\"1\" class=\"dataframe\">\n",
       "  <thead>\n",
       "    <tr style=\"text-align: right;\">\n",
       "      <th></th>\n",
       "      <th>July2021</th>\n",
       "      <th>July2020</th>\n",
       "      <th>gain/loss</th>\n",
       "    </tr>\n",
       "  </thead>\n",
       "  <tbody>\n",
       "    <tr>\n",
       "      <th>United States</th>\n",
       "      <td>392</td>\n",
       "      <td>225</td>\n",
       "      <td>167</td>\n",
       "    </tr>\n",
       "    <tr>\n",
       "      <th>China</th>\n",
       "      <td>156</td>\n",
       "      <td>122</td>\n",
       "      <td>34</td>\n",
       "    </tr>\n",
       "    <tr>\n",
       "      <th>India</th>\n",
       "      <td>34</td>\n",
       "      <td>21</td>\n",
       "      <td>13</td>\n",
       "    </tr>\n",
       "    <tr>\n",
       "      <th>United Kingdom</th>\n",
       "      <td>31</td>\n",
       "      <td>25</td>\n",
       "      <td>6</td>\n",
       "    </tr>\n",
       "    <tr>\n",
       "      <th>Germany</th>\n",
       "      <td>18</td>\n",
       "      <td>13</td>\n",
       "      <td>5</td>\n",
       "    </tr>\n",
       "  </tbody>\n",
       "</table>\n",
       "</div>"
      ],
      "text/plain": [
       "                July2021  July2020  gain/loss\n",
       "United States        392       225        167\n",
       "China                156       122         34\n",
       "India                 34        21         13\n",
       "United Kingdom        31        25          6\n",
       "Germany               18        13          5"
      ]
     },
     "execution_count": 52,
     "metadata": {},
     "output_type": "execute_result"
    }
   ],
   "source": [
    "df_countries_comp.head()"
   ]
  },
  {
   "cell_type": "code",
   "execution_count": 53,
   "id": "0c3bc0bf",
   "metadata": {},
   "outputs": [],
   "source": [
    "df_countries_comp.to_csv('country_comp.csv')"
   ]
  },
  {
   "cell_type": "markdown",
   "id": "f040151f",
   "metadata": {},
   "source": [
    "*2. industries*"
   ]
  },
  {
   "cell_type": "code",
   "execution_count": 54,
   "id": "7618d462",
   "metadata": {},
   "outputs": [],
   "source": [
    "df2_industries = df2_industries.rename(columns={'Industry_f': 'Industry_f2'})"
   ]
  },
  {
   "cell_type": "code",
   "execution_count": 55,
   "id": "f22a43d2",
   "metadata": {},
   "outputs": [],
   "source": [
    "df_industries_comp = pd.concat([df_industries, df2_industries], axis=1).fillna(0)"
   ]
  },
  {
   "cell_type": "code",
   "execution_count": 56,
   "id": "cc66e82a",
   "metadata": {},
   "outputs": [],
   "source": [
    "df_industries_comp = df_industries_comp.rename(columns={'Industry_f': 'July2021', 'Industry_f2':'July2020'}) "
   ]
  },
  {
   "cell_type": "code",
   "execution_count": 57,
   "id": "3db23e35",
   "metadata": {},
   "outputs": [],
   "source": [
    "df_industries_comp['gain/loss'] = df_industries_comp.July2021-df_industries_comp.July2020"
   ]
  },
  {
   "cell_type": "code",
   "execution_count": 58,
   "id": "99a39e81",
   "metadata": {
    "scrolled": true
   },
   "outputs": [
    {
     "data": {
      "text/html": [
       "<div>\n",
       "<style scoped>\n",
       "    .dataframe tbody tr th:only-of-type {\n",
       "        vertical-align: middle;\n",
       "    }\n",
       "\n",
       "    .dataframe tbody tr th {\n",
       "        vertical-align: top;\n",
       "    }\n",
       "\n",
       "    .dataframe thead th {\n",
       "        text-align: right;\n",
       "    }\n",
       "</style>\n",
       "<table border=\"1\" class=\"dataframe\">\n",
       "  <thead>\n",
       "    <tr style=\"text-align: right;\">\n",
       "      <th></th>\n",
       "      <th>July2021</th>\n",
       "      <th>July2020</th>\n",
       "      <th>gain/loss</th>\n",
       "    </tr>\n",
       "  </thead>\n",
       "  <tbody>\n",
       "    <tr>\n",
       "      <th>fintech</th>\n",
       "      <td>144</td>\n",
       "      <td>61</td>\n",
       "      <td>83</td>\n",
       "    </tr>\n",
       "    <tr>\n",
       "      <th>internet software &amp; services</th>\n",
       "      <td>126</td>\n",
       "      <td>61</td>\n",
       "      <td>65</td>\n",
       "    </tr>\n",
       "    <tr>\n",
       "      <th>e-commerce &amp; direct-to-consumer</th>\n",
       "      <td>84</td>\n",
       "      <td>56</td>\n",
       "      <td>28</td>\n",
       "    </tr>\n",
       "    <tr>\n",
       "      <th>artificial intelligence</th>\n",
       "      <td>64</td>\n",
       "      <td>46</td>\n",
       "      <td>18</td>\n",
       "    </tr>\n",
       "    <tr>\n",
       "      <th>health</th>\n",
       "      <td>56</td>\n",
       "      <td>33</td>\n",
       "      <td>23</td>\n",
       "    </tr>\n",
       "  </tbody>\n",
       "</table>\n",
       "</div>"
      ],
      "text/plain": [
       "                                 July2021  July2020  gain/loss\n",
       "fintech                               144        61         83\n",
       "internet software & services          126        61         65\n",
       "e-commerce & direct-to-consumer        84        56         28\n",
       "artificial intelligence                64        46         18\n",
       "health                                 56        33         23"
      ]
     },
     "execution_count": 58,
     "metadata": {},
     "output_type": "execute_result"
    }
   ],
   "source": [
    "df_industries_comp.head()"
   ]
  },
  {
   "cell_type": "code",
   "execution_count": 59,
   "id": "3c272e26",
   "metadata": {},
   "outputs": [],
   "source": [
    "df_industries_comp.to_csv('indusrty_comp.csv')"
   ]
  },
  {
   "cell_type": "markdown",
   "id": "89fe04e6",
   "metadata": {},
   "source": [
    "#### Decacorn list with geocode (if needed!)\n",
    "geocode is based on Company's registered HQ. When there's no information, it shows City's latitude & longtitude insead.\n",
    "some companys' registered address do NOT reflect their actual business HQ. Be careful."
   ]
  },
  {
   "cell_type": "code",
   "execution_count": 60,
   "id": "f309cca9",
   "metadata": {},
   "outputs": [],
   "source": [
    "df_decacorn = df[df['Valuation ($B)'] >= 10].copy()"
   ]
  },
  {
   "cell_type": "code",
   "execution_count": 61,
   "id": "6b75bbe3",
   "metadata": {},
   "outputs": [],
   "source": [
    "geolocator = Nominatim(user_agent=\"test_requests\")\n",
    "geocode = RateLimiter(geolocator.geocode, min_delay_seconds=1)\n",
    "df_decacorn['address'] =  df_decacorn['Company'].apply(geocode)\n",
    "df_decacorn['Lat'] = df_decacorn['address'].apply(lambda x: x.latitude if x else None)\n",
    "df_decacorn['Lon'] = df_decacorn['address'].apply(lambda x: x.longitude if x else None)\n",
    "df_decacorn['gCity'] =  df_decacorn['City'].apply(geocode)\n",
    "df_decacorn['Lat2'] = df_decacorn['gCity'].apply(lambda x: x.latitude if x else None)\n",
    "df_decacorn['Lon2'] = df_decacorn['gCity'].apply(lambda x: x.longitude if x else None)"
   ]
  },
  {
   "cell_type": "code",
   "execution_count": 62,
   "id": "c28fd69c",
   "metadata": {},
   "outputs": [],
   "source": [
    "df_decacorn.Lat = df_decacorn.Lat.fillna(df_decacorn.Lat2)\n",
    "df_decacorn.Lon = df_decacorn.Lon.fillna(df_decacorn.Lon2)"
   ]
  },
  {
   "cell_type": "code",
   "execution_count": 63,
   "id": "71322911",
   "metadata": {},
   "outputs": [],
   "source": [
    "# df_decacorn = df_decacorn[['Company', 'Valuation ($B)', 'Industry_f','unicorn_age','City','Country','Lat','Lon','Lat2','Lon2']].rename(columns={'Industry_f': 'Industry'})\n",
    "df_decacorn[['Company','City','address','Lat','Lon','Lat2','Lon2']].to_csv('test.csv', index=False)"
   ]
  },
  {
   "cell_type": "code",
   "execution_count": 64,
   "id": "e821c6e9",
   "metadata": {},
   "outputs": [],
   "source": [
    "df_decacorn.to_csv('decacorn.csv', index=False)"
   ]
  },
  {
   "cell_type": "code",
   "execution_count": null,
   "id": "33890be6",
   "metadata": {},
   "outputs": [],
   "source": []
  }
 ],
 "metadata": {
  "kernelspec": {
   "display_name": "Python 3",
   "language": "python",
   "name": "python3"
  },
  "language_info": {
   "codemirror_mode": {
    "name": "ipython",
    "version": 3
   },
   "file_extension": ".py",
   "mimetype": "text/x-python",
   "name": "python",
   "nbconvert_exporter": "python",
   "pygments_lexer": "ipython3",
   "version": "3.8.10"
  }
 },
 "nbformat": 4,
 "nbformat_minor": 5
}
